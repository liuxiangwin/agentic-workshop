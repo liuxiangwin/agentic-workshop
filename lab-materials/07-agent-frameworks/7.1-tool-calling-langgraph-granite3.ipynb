{
 "cells": [
  {
   "cell_type": "markdown",
   "id": "dd5f1d39-2310-42ae-9477-4cde497374cc",
   "metadata": {},
   "source": [
    "## Tool Calling with Agentic AI - LangGraph\n",
    "\n",
    "### LLM Used - Granite3.0-8B\n",
    "\n",
    "In this notebook we will learn how to use Tool Calling with Agentic AI in order to solve different problems.\n",
    "\n",
    "Tool-calling agents expand the capabilities of an LLM by allowing it to interact with external systems. This approach empowers agents to dynamically solve problems by utilizing tools, accessing memory, and planning multi-step actions.\n",
    "\n",
    "Tool calling agents enable:\n",
    "\n",
    "1. Multi-Step Decision Making: The LLM can orchestrate a sequence of decisions to achieve complex objectives.\n",
    "2. Tool Access: The LLM can select and use various tools as needed to interact with external systems and APIs.\n",
    "\n",
    "This architecture allows for more dynamic and flexible behaviors, enabling agents to solve complex tasks by leveraging external resources efficiently."
   ]
  },
  {
   "cell_type": "markdown",
   "id": "2a4e2b81-0e10-4390-a7b8-5ddfda53a3e3",
   "metadata": {},
   "source": [
    "### Requirements and Imports\n",
    "\n",
    "Import necessary libraries, including `langchain_core`, `langgraph`, and `langchain_community`."
   ]
  },
  {
   "cell_type": "code",
   "execution_count": 1,
   "id": "03127548-960c-4565-9648-6137eea0010b",
   "metadata": {
    "tags": []
   },
   "outputs": [
    {
     "name": "stdout",
     "output_type": "stream",
     "text": [
      "\u001b[31mERROR: pip's dependency resolver does not currently take into account all the packages that are installed. This behaviour is the source of the following dependency conflicts.\n",
      "mistral-common 1.5.2 requires pillow<11.0.0,>=10.3.0, but you have pillow 11.1.0 which is incompatible.\u001b[0m\u001b[31m\n",
      "\u001b[0m\n",
      "\u001b[1m[\u001b[0m\u001b[34;49mnotice\u001b[0m\u001b[1;39;49m]\u001b[0m\u001b[39;49m A new release of pip is available: \u001b[0m\u001b[31;49m23.2.1\u001b[0m\u001b[39;49m -> \u001b[0m\u001b[32;49m25.0\u001b[0m\n",
      "\u001b[1m[\u001b[0m\u001b[34;49mnotice\u001b[0m\u001b[1;39;49m]\u001b[0m\u001b[39;49m To update, run: \u001b[0m\u001b[32;49mpip install --upgrade pip\u001b[0m\n",
      "\u001b[31mERROR: pip's dependency resolver does not currently take into account all the packages that are installed. This behaviour is the source of the following dependency conflicts.\n",
      "kfp 2.9.0 requires requests-toolbelt<1,>=0.8.0, but you have requests-toolbelt 1.0.0 which is incompatible.\u001b[0m\u001b[31m\n",
      "\u001b[0m"
     ]
    }
   ],
   "source": [
    "!pip install autogen-agentchat~=0.2 autogen psutil --quiet\n",
    "# !pip install -q langchain-openai termcolor langchain_community duckduckgo_search wikipedia openapi-python-client==0.12.3 langgraph langchain_experimental yfinance\n",
    "!pip install -q langchain-openai termcolor langchain_community duckduckgo_search wikipedia openapi-python-client langgraph langchain_experimental openai --quiet"
   ]
  },
  {
   "cell_type": "code",
   "execution_count": 2,
   "id": "aaf493b9-622f-49dc-a81b-768dabc5139e",
   "metadata": {
    "tags": []
   },
   "outputs": [],
   "source": [
    "# Agentic AI libraries\n",
    "from langchain_core.messages import HumanMessage, SystemMessage\n",
    "from langchain.chains import LLMChain\n",
    "from langchain_openai import ChatOpenAI\n",
    "from langchain.prompts import PromptTemplate\n",
    "from langchain.callbacks.streaming_stdout import StreamingStdOutCallbackHandler\n",
    "from langgraph.checkpoint.memory import MemorySaver\n",
    "from langgraph.graph import END, START, StateGraph, MessagesState\n",
    "from langgraph.prebuilt import ToolNode\n",
    "from langchain_core.tools import tool\n",
    "from typing import Annotated, Literal, TypedDict\n",
    "from langchain_core.messages import HumanMessage, AIMessage\n",
    "import requests\n",
    "import re\n",
    "import os"
   ]
  },
  {
   "cell_type": "markdown",
   "id": "20b950bc-4d73-49e5-a35b-083a784edd50",
   "metadata": {},
   "source": [
    "### Tool for checking externally the app\n",
    "\n",
    "Define the tools that the agent will use, such as a simulated web search for weather and an analysis tool for technical questions.\n",
    "\n",
    "First you need to deploy the middleware app in OpenShift that will give us access to the Weather Tool Retriever API.\n",
    "\n",
    "Deploy the weather application with the following:\n",
    "\n",
    "```bash\n",
    "kubectl apply -k agents/weather-app/gitops \n",
    "```"
   ]
  },
  {
   "cell_type": "code",
   "execution_count": 3,
   "id": "bd5de15c-6645-4d77-b06d-936aa9487c52",
   "metadata": {
    "tags": []
   },
   "outputs": [],
   "source": [
    "# Search tool\n",
    "@tool\n",
    "def search(query: str):\n",
    "    \"\"\"Get weather information from weather-app middleware.\"\"\"\n",
    "\n",
    "    # Extract city name using Regex\n",
    "    match = re.search(r\"\\b(?:weather in|forecast for)\\s+([a-zA-Z\\s]+)\\b\", query, re.IGNORECASE)\n",
    "    # Default to the full query if no match\n",
    "    city = match.group(1).strip() if match else query.strip()\n",
    "    # Define the weather app URL for the API call\n",
    "    api_url = f\"{WEATHER_API_BASE_URL}/weather/?city_name={city}\"\n",
    "\n",
    "    # Make the API call to the weather-app\n",
    "    try:\n",
    "        response = requests.get(api_url)\n",
    "        response.raise_for_status()\n",
    "        weather_data = response.json()\n",
    "\n",
    "        # Extract relevant weather information from the JSON response\n",
    "        temperature = weather_data.get(\"temperature\", \"N/A\")\n",
    "        cloud_cover = weather_data.get(\"cloud_cover\", \"N/A\")\n",
    "        humidity = weather_data.get(\"relative_humidity\", \"N/A\")\n",
    "        wind_speed = weather_data.get(\"wind_speed\", \"N/A\")\n",
    "\n",
    "        # Format the output message\n",
    "        weather_info = (f\"The current weather in {city} is as follows:\\n\"\n",
    "                        f\"Temperature: {temperature}°C\\n\"\n",
    "                        f\"Cloud Cover: {cloud_cover}%\\n\"\n",
    "                        f\"Humidity: {humidity}%\\n\"\n",
    "                        f\"Wind Speed: {wind_speed} km/h\")\n",
    "        return weather_info\n",
    "\n",
    "    except requests.exceptions.RequestException as e:\n",
    "        return f\"Error fetching weather data: {str(e)}\"\n",
    "\n",
    "# Analyze tool\n",
    "@tool\n",
    "def analyze(query: str):\n",
    "    \"\"\"Simulate an analysis tool for technical questions.\"\"\"\n",
    "    return f\"Analyzing the concept of {query}... The analysis is complete.\""
   ]
  },
  {
   "cell_type": "code",
   "execution_count": 4,
   "id": "2b9267b0-9526-4219-ba37-76ac09fb3d49",
   "metadata": {
    "tags": []
   },
   "outputs": [],
   "source": [
    "# Weather App API URL\n",
    "WEATHER_API_BASE_URL = \"http://weather-app.angent-workshop.svc.cluster.local:8000\""
   ]
  },
  {
   "cell_type": "markdown",
   "id": "b7d905a0-c6f0-4ae8-9be3-0c0618a010c2",
   "metadata": {
    "tags": []
   },
   "source": [
    "### Initialize LLM\n",
    "Set up the Large Language Model (LLM) using the VLLM interface. This model will process inputs and optionally invoke tools."
   ]
  },
  {
   "cell_type": "code",
   "execution_count": 5,
   "id": "77f95a70-89fb-4e21-a51c-24e862b7953e",
   "metadata": {
    "tags": []
   },
   "outputs": [],
   "source": [
    "# LLM Inference Server URL\n",
    "# INFERENCE_SERVER_URL = os.getenv('API_URL_GRANITE')\n",
    "# MODEL_NAME = \"granite30-8b\"\n",
    "# API_KEY= os.getenv('API_KEY')\n",
    "\n",
    "INFERENCE_SERVER_URL = \"http://localhost:8000\"\n",
    "MODEL_NAME = \"ibm-granite/granite-3.0-8b-instruct\"\n",
    "API_KEY= \"alanliuxiang\"\n",
    "\n",
    "# LLM definition\n",
    "llm = ChatOpenAI(\n",
    "    openai_api_key=\"alanliuxiang\",\n",
    "    openai_api_base= f\"{INFERENCE_SERVER_URL}/v1\",\n",
    "    model_name=MODEL_NAME,\n",
    "    top_p=0.92,\n",
    "    temperature=0.01,\n",
    "    max_tokens=512,\n",
    "    presence_penalty=1.03,\n",
    "    streaming=True,\n",
    "    callbacks=[StreamingStdOutCallbackHandler()]\n",
    ")"
   ]
  },
  {
   "cell_type": "markdown",
   "id": "79edf17e-4366-4f92-9461-64e25cf0ed55",
   "metadata": {},
   "source": [
    "Create a prompt template that the LLM will use to generate responses. This template guides the LLM to use tools when necessary."
   ]
  },
  {
   "cell_type": "code",
   "execution_count": 6,
   "id": "3e915928-a538-48d6-8547-7de9ccfbc9ef",
   "metadata": {
    "tags": []
   },
   "outputs": [],
   "source": [
    "template = \"\"\"\\\n",
    "<|start_of_role|>system<|end_of_role|>\n",
    "You are a helpful, respectful, and honest assistant. Always be as helpful as possible, while being safe. \n",
    "Your answers should not include any harmful, unethical, racist, sexist, toxic, dangerous, or illegal content. \n",
    "Please ensure that your responses are socially unbiased and positive in nature.\n",
    "\n",
    "If a question does not make any sense, or is not factually coherent, explain why instead of answering something incorrect. \n",
    "If you don't know the answer to a question, please don't share false information.\n",
    "\n",
    "If the question requires real-time information or specific technical analysis that you cannot provide directly, respond by indicating you will use a tool to retrieve the information and then use the tool to provide the accurate data.\n",
    "<|end_of_text|>\n",
    "\n",
    "<|start_of_role|>user<|end_of_role|>\n",
    "Human: {input}\n",
    "<|end_of_text|>\n",
    "\n",
    "<|start_of_role|>assistant<|end_of_role|>\n",
    "If this question requires real-time information or analysis, I will retrieve the data for you using a reliable source or tool.\n",
    "\"\"\"\n",
    "\n",
    "PROMPT = PromptTemplate(input_variables=[\"input\"], template=template)\n"
   ]
  },
  {
   "cell_type": "markdown",
   "id": "1b63d21a-af73-40f6-908b-391eedd3b2ab",
   "metadata": {
    "tags": []
   },
   "source": [
    "### Define Conditional Logic for Workflow Continuation\n",
    "Create a function to determine whether the workflow should continue to the tools node or stop based on the LLM's output."
   ]
  },
  {
   "cell_type": "code",
   "execution_count": 7,
   "id": "4344c515-9c7d-461e-9542-95e35344b3c3",
   "metadata": {
    "tags": []
   },
   "outputs": [],
   "source": [
    "# List to track tool usage\n",
    "tools_used_log = []\n",
    "\n",
    "# Define the function that determines whether to continue or not\n",
    "def should_continue(state: MessagesState) -> Literal[\"tools\", END]:\n",
    "    messages = state['messages']\n",
    "    last_message = messages[-1]\n",
    "    # If the LLM makes a tool call, then we route to the \"tools\" node\n",
    "    if last_message.tool_calls:\n",
    "        return \"tools\"\n",
    "    # Otherwise, we stop (reply to the user)\n",
    "    return END"
   ]
  },
  {
   "cell_type": "markdown",
   "id": "aa4a242d-4ec6-4eb4-bb48-cd1faa389941",
   "metadata": {},
   "source": [
    "### Create the Function to Call the LLM\n",
    "Define a function that sends the formatted prompt to the LLM and decides whether to invoke any tools based on the query.\n"
   ]
  },
  {
   "cell_type": "code",
   "execution_count": 8,
   "id": "008fe1d3-ab4d-4852-8085-f580a1d1f4cf",
   "metadata": {
    "tags": []
   },
   "outputs": [],
   "source": [
    "def call_model(state: MessagesState):\n",
    "    messages = state['messages']\n",
    "    user_query = messages[-1].content.lower()\n",
    "\n",
    "    # Check if the query is about weather\n",
    "    if \"weather\" in user_query or \"forecast\" in user_query:\n",
    "        # Invoke the weather tool directly\n",
    "        tool_result = search.invoke(user_query)\n",
    "        if isinstance(tool_result, str):\n",
    "            ai_message = AIMessage(content=tool_result)\n",
    "        else:\n",
    "            ai_message = AIMessage(content=\"Error fetching weather data.\")\n",
    "        tools_used_log.append(\"search\")  # Log the tool usage\n",
    "    else:\n",
    "        # Process non-weather queries through the LLM\n",
    "        formatted_prompt = PROMPT.format(input=user_query)\n",
    "        try:\n",
    "            response = llm.invoke(formatted_prompt)\n",
    "            # Ensure response is a valid string\n",
    "            if not isinstance(response, str):\n",
    "                response = str(response)  # Convert to string if needed\n",
    "            ai_message = AIMessage(content=response)\n",
    "        except Exception as e:\n",
    "            # Handle unexpected errors from the LLM\n",
    "            ai_message = AIMessage(content=f\"Error processing your query: {str(e)}\")\n",
    "        # Handle analysis queries\n",
    "        if \"analyze\" in user_query or \"technical\" in user_query:\n",
    "            tool_result = analyze.invoke(user_query)\n",
    "            final_response = f\"{tool_result}. If you need further information, feel free to ask.\"\n",
    "            ai_message = AIMessage(content=final_response)\n",
    "            tools_used_log.append(\"analyze\")  # Log the tool usage\n",
    "\n",
    "    return {\"messages\": [ai_message]}\n"
   ]
  },
  {
   "cell_type": "markdown",
   "id": "1f22696a-59f5-400a-841a-29ee382219d4",
   "metadata": {},
   "source": [
    "### Agentic AI Workflow Logic\n",
    "First, we need to set the entry point for graph execution - agent node.\n",
    "\n",
    "Then we define one normal and one conditional edge. Conditional edge means that the destination depends on the contents of the graph's state (MessageState). In our case, the destination is not known until the agent (LLM) decides.\n",
    "\n",
    "* Conditional edge: after the agent is called, we should either:\n",
    "  * Run tools if the agent said to take an action, OR\n",
    "  * Finish (respond to the user) if the agent did not ask to run tools\n",
    "* Normal edge: after the tools are invoked, the graph should always return to the agent to decide what to do next"
   ]
  },
  {
   "cell_type": "code",
   "execution_count": 9,
   "id": "941837cf-2c21-4633-9c7e-82ee33eb6d3c",
   "metadata": {
    "tags": []
   },
   "outputs": [
    {
     "data": {
      "text/plain": [
       "<langgraph.graph.state.StateGraph at 0x7fcd4e37ce90>"
      ]
     },
     "execution_count": 9,
     "metadata": {},
     "output_type": "execute_result"
    }
   ],
   "source": [
    "# Define the workflow\n",
    "tools = [search, analyze]\n",
    "tool_node = ToolNode(tools)\n",
    "\n",
    "# we initialize graph (StateGraph) by passing state schema (in our case MessagesState)\n",
    "workflow = StateGraph(MessagesState)\n",
    "\n",
    "# The agent node: responsible for deciding what (if any) actions to take.\n",
    "workflow.add_node(\"agent\", call_model)\n",
    "\n",
    "# The tools node that invokes tools: if the agent decides to take an action, this node will then execute that action.\n",
    "workflow.add_node(\"tools\", tool_node)\n",
    "\n",
    "# Set the entry point of the workflow to the \"agent\" node\n",
    "workflow.add_edge(START, \"agent\")\n",
    "\n",
    "# Add conditional edges based on the LLM's response\n",
    "workflow.add_conditional_edges(\"agent\", should_continue)\n",
    "\n",
    "# Add a normal edge from the \"tools\" node back to the \"agent\" node\n",
    "workflow.add_edge(\"tools\", 'agent')"
   ]
  },
  {
   "cell_type": "markdown",
   "id": "ab372594-a34c-4bc8-81e4-a9045542b061",
   "metadata": {},
   "source": [
    "### Compile the graph\n",
    "* When we compile the graph, we turn it into a LangChain Runnable, which automatically enables calling .invoke(), .stream() and .batch() with your inputs\n",
    "* We can also optionally pass checkpointer object for persisting state between graph runs, and enabling memory, human-in-the-loop workflows, time travel and more. In our case we use MemorySaver - a simple in-memory checkpointer"
   ]
  },
  {
   "cell_type": "code",
   "execution_count": 10,
   "id": "2247b2e9-320e-4dad-99bc-fd2f5af64474",
   "metadata": {},
   "outputs": [],
   "source": [
    "# Initialize memory\n",
    "# Use `MemorySaver` to allow the workflow to persist state between executions, maintaining context.\n",
    "checkpointer = MemorySaver()"
   ]
  },
  {
   "cell_type": "code",
   "execution_count": 11,
   "id": "4be0c7aa-24d6-4fcf-abb9-6efbeab6df93",
   "metadata": {},
   "outputs": [],
   "source": [
    "# Compile the workflow into a runnable app\n",
    "app = workflow.compile(checkpointer=checkpointer)"
   ]
  },
  {
   "cell_type": "code",
   "execution_count": 12,
   "id": "5658820a-8158-46b9-b991-05cf61e42e69",
   "metadata": {
    "tags": []
   },
   "outputs": [
    {
     "data": {
      "image/png": "[encoded data removed]",
      "text/plain": [
       "<IPython.core.display.Image object>"
      ]
     },
     "metadata": {},
     "output_type": "display_data"
    }
   ],
   "source": [
    "from IPython.display import Image, display\n",
    "\n",
    "try:\n",
    "    display(Image(app.get_graph(xray=True).draw_mermaid_png()))\n",
    "except Exception:\n",
    "    # This requires some extra dependencies and is optional\n",
    "    print(\"Graph visualization failed. Ensure you have the required dependencies.\")"
   ]
  },
  {
   "cell_type": "markdown",
   "id": "1ebc259e-fd41-4696-9716-eaa4a432b325",
   "metadata": {},
   "source": [
    "### Invoke the Workflow with an Example Input and Check the Tool Usage (if any)\n",
    "* Run the workflow with a sample input\n",
    "* Print which tools were used during the session, if any.\n",
    "\n",
    "\n",
    "1. LangGraph adds the input message to the internal state, then passes the state to the entrypoint node, \"agent\".\n",
    "2. The \"agent\" node executes, invoking the chat model.\n",
    "3. The chat model returns an AIMessage. LangGraph adds this to the state.\n",
    "4. Graph cycles the following steps until there are no more tool_calls on AIMessage:\n",
    "    * If AIMessage has tool_calls, \"tools\" node executes\n",
    "    * The \"agent\" node executes again and returns AIMessage\n",
    "5. Execution progresses to the special END value and outputs the final state. And as a result, we get a list of all our chat messages as output."
   ]
  },
  {
   "cell_type": "code",
   "execution_count": 13,
   "id": "7e88cc9b-5b44-44dc-a7f5-f02b39eee0ab",
   "metadata": {
    "tags": []
   },
   "outputs": [
    {
     "name": "stdout",
     "output_type": "stream",
     "text": [
      "The current weather in dolomites is as follows:\n",
      "Temperature: -8.25°C\n",
      "Cloud Cover: 0.0%\n",
      "Humidity: 36.0%\n",
      "Wind Speed: 5.804825305938721 km/h\n",
      "Tool used: search\n"
     ]
    }
   ],
   "source": [
    "# Invoke the workflow with an example input\n",
    "input_prompt = \"What is the weather in Dolomites?\"\n",
    "\n",
    "final_state = app.invoke(\n",
    "    {\"messages\": [HumanMessage(content=input_prompt)]},\n",
    "    config={\"configurable\": {\"thread_id\": 42}}\n",
    ")\n",
    "\n",
    "# Output the last response\n",
    "print(final_state[\"messages\"][-1].content)\n",
    "\n",
    "# Inspect which tools were used during this session\n",
    "if not tools_used_log:\n",
    "    print(\"No tools were used.\")\n",
    "else:\n",
    "    for tool_name in tools_used_log:\n",
    "        print(f\"Tool used: {tool_name}\")"
   ]
  },
  {
   "cell_type": "code",
   "execution_count": 14,
   "id": "93d88c99-ef82-446e-a33a-e035c7573426",
   "metadata": {
    "tags": []
   },
   "outputs": [
    {
     "name": "stdout",
     "output_type": "stream",
     "text": [
      "I'm sorry for any confusion, but I don't have real-time data or personal opinions. However, I can provide some general information about both locations that might help you make a decision.\n",
      "\n",
      "The Dolomites and the Catalan Pyrenees are both popular hiking destinations, each with its own unique features.\n",
      "\n",
      "The Dolomites, located in Italy, are known for their dramatic peaks and valleys, which were formed by glacial erosion. They offer a wide range of hiking trails, from easy walks to challenging multi-day treks. The area is also famous for its stunning sunrises and sunsets, which can paint the peaks in warm, golden hues.\n",
      "\n",
      "The Catalan Pyrenees, on the other hand, are part of the larger Pyrenees mountain range that spans France, Spain, and Andorra. They offer a variety of landscapes, including dense forests, alpine meadows, and rugged peaks. The Catalan Pyrenees are also known for their rich biodiversity and cultural heritage.\n",
      "\n",
      "Without specific details about your preferences (e.g., difficulty level, scenery, cultural experiences), it's hard to definitively say which is \"better\" for hiking. Both offer unique experiences and challenges. I recommend researching more about each location based on your personal interests and needs.Analyzing the concept of analyze why dolomites is better than catalan pyrenees for hiking... The analysis is complete.. If you need further information, feel free to ask.\n",
      "Tool used: analyze\n"
     ]
    }
   ],
   "source": [
    "# Initialize tools_used_log before invoking the workflow\n",
    "tools_used_log = []  # Reset the log to ensure it's fresh for each session\n",
    "\n",
    "# Invoke the workflow with an example input\n",
    "input_prompt = \"Analyze why Dolomites is better than Catalan Pyrenees for hiking\"\n",
    "\n",
    "final_state = app.invoke(\n",
    "    {\"messages\": [HumanMessage(content=input_prompt)]},\n",
    "    config={\"configurable\": {\"thread_id\": 42}}\n",
    ")\n",
    "\n",
    "# Output the last response\n",
    "print(final_state[\"messages\"][-1].content)\n",
    "\n",
    "# Inspect which tools were used during this session\n",
    "if not tools_used_log:\n",
    "    print(\"No tools were used.\")\n",
    "else:\n",
    "    for tool_name in tools_used_log:\n",
    "        print(f\"Tool used: {tool_name}\")"
   ]
  },
  {
   "cell_type": "code",
   "execution_count": 15,
   "id": "ed216840-9bf7-4165-9c57-3fd7f6cd4b14",
   "metadata": {
    "tags": []
   },
   "outputs": [
    {
     "name": "stdout",
     "output_type": "stream",
     "text": [
      "To hike in the Dolomites, you should bring the following gear:\n",
      "\n",
      "1. Hiking boots with good grip and ankle support\n",
      "2. Layered clothing (moisture-wicking base layers, insulating mid-layers, and waterproof outer layers)\n",
      "3. A backpack to carry your gear\n",
      "4. A hat and gloves for warmth\n",
      "5. Sunglasses and sunscreen for protection from the sun\n",
      "6. A map and compass or GPS device\n",
      "7. A first-aid kit\n",
      "8. Food and water (at least 2 liters)\n",
      "9. A headlamp or flashlight (in case you're out later than expected)\n",
      "10. Trekking poles (optional, but helpful for steep ascents and descents)\n",
      "\n",
      "Always check the weather forecast before your hike and adjust your gear accordingly. It's also important to inform someone of your hiking plans and expected return time.content=\"To hike in the Dolomites, you should bring the following gear:\\n\\n1. Hiking boots with good grip and ankle support\\n2. Layered clothing (moisture-wicking base layers, insulating mid-layers, and waterproof outer layers)\\n3. A backpack to carry your gear\\n4. A hat and gloves for warmth\\n5. Sunglasses and sunscreen for protection from the sun\\n6. A map and compass or GPS device\\n7. A first-aid kit\\n8. Food and water (at least 2 liters)\\n9. A headlamp or flashlight (in case you're out later than expected)\\n10. Trekking poles (optional, but helpful for steep ascents and descents)\\n\\nAlways check the weather forecast before your hike and adjust your gear accordingly. It's also important to inform someone of your hiking plans and expected return time.\" additional_kwargs={} response_metadata={'finish_reason': 'stop', 'model_name': 'ibm-granite/granite-3.0-8b-instruct'} id='run-932cb6f8-7f5b-4ac0-9ccd-09ee9278c46e-0'\n",
      "No tools were used.\n"
     ]
    }
   ],
   "source": [
    "# Initialize tools_used_log before invoking the workflow\n",
    "tools_used_log = []  # Reset the log to ensure it's fresh for each session\n",
    "\n",
    "# Invoke the workflow with an example input\n",
    "input_prompt = \"What gear should I bring to hike mountains like Dolomites?\"\n",
    "\n",
    "final_state = app.invoke(\n",
    "    {\"messages\": [HumanMessage(content=input_prompt)]},\n",
    "    config={\"configurable\": {\"thread_id\": 42}}\n",
    ")\n",
    "\n",
    "# Output the last response\n",
    "print(final_state[\"messages\"][-1].content)\n",
    "\n",
    "# Inspect which tools were used during this session\n",
    "if not tools_used_log:\n",
    "    print(\"No tools were used.\")\n",
    "else:\n",
    "    for tool_name in tools_used_log:\n",
    "        print(f\"Tool used: {tool_name}\")"
   ]
  },
  {
   "cell_type": "code",
   "execution_count": 16,
   "id": "2229369f-0d1f-40e8-b36b-f5741e523dbe",
   "metadata": {
    "tags": []
   },
   "outputs": [
    {
     "name": "stdout",
     "output_type": "stream",
     "text": [
      "Agentic AI refers to artificial intelligence systems that are designed to act autonomously and make decisions on their own, rather than being controlled by humans. These systems are often used in situations where human intervention is not possible or practical, such as in self-driving cars or autonomous drones. The term \"agentic\" comes from the idea that these systems have a sense of agency, or the ability to act independently and make decisions based on their own internal processes.content='Agentic AI refers to artificial intelligence systems that are designed to act autonomously and make decisions on their own, rather than being controlled by humans. These systems are often used in situations where human intervention is not possible or practical, such as in self-driving cars or autonomous drones. The term \"agentic\" comes from the idea that these systems have a sense of agency, or the ability to act independently and make decisions based on their own internal processes.' additional_kwargs={} response_metadata={'finish_reason': 'stop', 'model_name': 'ibm-granite/granite-3.0-8b-instruct'} id='run-623b4f32-4a53-415b-9e43-c29f19849456-0'\n",
      "No tools were used.\n"
     ]
    }
   ],
   "source": [
    "# Initialize tools_used_log before invoking the workflow\n",
    "tools_used_log = []  # Reset the log to ensure it's fresh for each session\n",
    "\n",
    "# Invoke the workflow with an example input\n",
    "input_prompt = \"What is Agentic AI?\"\n",
    "\n",
    "final_state = app.invoke(\n",
    "    {\"messages\": [HumanMessage(content=input_prompt)]},\n",
    "    config={\"configurable\": {\"thread_id\": 42}}\n",
    ")\n",
    "\n",
    "# Output the last response\n",
    "print(final_state[\"messages\"][-1].content)\n",
    "\n",
    "# Inspect which tools were used during this session\n",
    "if not tools_used_log:\n",
    "    print(\"No tools were used.\")\n",
    "else:\n",
    "    for tool_name in tools_used_log:\n",
    "        print(f\"Tool used: {tool_name}\")"
   ]
  }
 ],
 "metadata": {
  "kernelspec": {
   "display_name": "Python 3.11",
   "language": "python",
   "name": "python3"
  },
  "language_info": {
   "codemirror_mode": {
    "name": "ipython",
    "version": 3
   },
   "file_extension": ".py",
   "mimetype": "text/x-python",
   "name": "python",
   "nbconvert_exporter": "python",
   "pygments_lexer": "ipython3",
   "version": "3.11.7"
  }
 },
 "nbformat": 4,
 "nbformat_minor": 5
}
