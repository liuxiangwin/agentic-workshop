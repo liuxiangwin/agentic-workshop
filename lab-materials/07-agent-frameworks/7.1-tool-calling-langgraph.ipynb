{
 "cells": [
  {
   "cell_type": "markdown",
   "id": "dd5f1d39-2310-42ae-9477-4cde497374cc",
   "metadata": {},
   "source": [
    "## Tool Calling with Agentic AI - LangGraph\n",
    "\n",
    "In this notebook we will learn how to use Tool Calling with Agentic AI in order to solve different problems.\n",
    "\n",
    "Tool-calling agents expand the capabilities of an LLM by allowing it to interact with external systems. This approach empowers agents to dynamically solve problems by utilizing tools, accessing memory, and planning multi-step actions.\n",
    "\n",
    "Tool calling agents enable:\n",
    "\n",
    "1. Multi-Step Decision Making: The LLM can orchestrate a sequence of decisions to achieve complex objectives.\n",
    "2. Tool Access: The LLM can select and use various tools as needed to interact with external systems and APIs.\n",
    "\n",
    "This architecture allows for more dynamic and flexible behaviors, enabling agents to solve complex tasks by leveraging external resources efficiently."
   ]
  },
  {
   "cell_type": "markdown",
   "id": "2a4e2b81-0e10-4390-a7b8-5ddfda53a3e3",
   "metadata": {},
   "source": [
    "### Requirements and Imports\n",
    "\n",
    "Import necessary libraries, including `langchain_core`, `langgraph`, and `langchain_community`."
   ]
  },
  {
   "cell_type": "code",
   "execution_count": 1,
   "id": "03127548-960c-4565-9648-6137eea0010b",
   "metadata": {
    "tags": []
   },
   "outputs": [
    {
     "name": "stdout",
     "output_type": "stream",
     "text": [
      "\u001b[33mWARNING: Ignoring invalid distribution ~vidia-cusolver-cu12 (/opt/app-root/lib64/python3.11/site-packages)\u001b[0m\u001b[33m\n",
      "\u001b[0m\u001b[33mWARNING: Ignoring invalid distribution ~vidia-cusolver-cu12 (/opt/app-root/lib64/python3.11/site-packages)\u001b[0m\u001b[33m\n",
      "\u001b[0m\u001b[33mWARNING: Ignoring invalid distribution ~vidia-cusolver-cu12 (/opt/app-root/lib64/python3.11/site-packages)\u001b[0m\u001b[33m\n",
      "\u001b[0m\u001b[33mWARNING: Ignoring invalid distribution ~vidia-cusolver-cu12 (/opt/app-root/lib64/python3.11/site-packages)\u001b[0m\u001b[33m\n",
      "\u001b[0m\n",
      "\u001b[1m[\u001b[0m\u001b[34;49mnotice\u001b[0m\u001b[1;39;49m]\u001b[0m\u001b[39;49m A new release of pip is available: \u001b[0m\u001b[31;49m23.2.1\u001b[0m\u001b[39;49m -> \u001b[0m\u001b[32;49m24.3.1\u001b[0m\n",
      "\u001b[1m[\u001b[0m\u001b[34;49mnotice\u001b[0m\u001b[1;39;49m]\u001b[0m\u001b[39;49m To update, run: \u001b[0m\u001b[32;49mpip install --upgrade pip\u001b[0m\n"
     ]
    }
   ],
   "source": [
    "!pip install autogen-agentchat~=0.2 autogen psutil --quiet\n",
    "# !pip install -q langchain-openai termcolor langchain_community duckduckgo_search wikipedia openapi-python-client==0.12.3 langgraph langchain_experimental yfinance\n",
    "!pip install -q langchain-openai termcolor langchain_community duckduckgo_search wikipedia openapi-python-client langgraph langchain_experimental openai --quiet"
   ]
  },
  {
   "cell_type": "code",
   "execution_count": 2,
   "id": "aaf493b9-622f-49dc-a81b-768dabc5139e",
   "metadata": {
    "tags": []
   },
   "outputs": [],
   "source": [
    "# Agentic AI libraries\n",
    "from langchain_core.messages import HumanMessage, SystemMessage\n",
    "from langchain.chains import LLMChain\n",
    "from langchain_openai import ChatOpenAI\n",
    "from langchain.prompts import PromptTemplate\n",
    "from langchain.callbacks.streaming_stdout import StreamingStdOutCallbackHandler\n",
    "from langgraph.checkpoint.memory import MemorySaver\n",
    "from langgraph.graph import END, START, StateGraph, MessagesState\n",
    "from langgraph.prebuilt import ToolNode\n",
    "from langchain_core.tools import tool\n",
    "from typing import Annotated, Literal, TypedDict\n",
    "from langchain_core.messages import HumanMessage, AIMessage\n",
    "import requests\n",
    "import re\n",
    "import os"
   ]
  },
  {
   "cell_type": "markdown",
   "id": "20b950bc-4d73-49e5-a35b-083a784edd50",
   "metadata": {},
   "source": [
    "### Tool for checking externally the app\n",
    "\n",
    "Define the tools that the agent will use, such as a simulated web search for weather and an analysis tool for technical questions.\n",
    "\n",
    "First you need to deploy the middleware app in OpenShift that will give us access to the Weather Tool Retriever API.\n",
    "\n",
    "Deploy the weather application with the following:\n",
    "\n",
    "```bash\n",
    "kubectl apply -k agents/weather-app/gitops \n",
    "```"
   ]
  },
  {
   "cell_type": "code",
   "execution_count": 3,
   "id": "bd5de15c-6645-4d77-b06d-936aa9487c52",
   "metadata": {
    "tags": []
   },
   "outputs": [],
   "source": [
    "# Search tool\n",
    "@tool\n",
    "def search(query: str):\n",
    "    \"\"\"Get weather information from weather-app middleware.\"\"\"\n",
    "\n",
    "    # Extract city name using Regex\n",
    "    match = re.search(r\"\\b(?:weather in|forecast for)\\s+([a-zA-Z\\s]+)\\b\", query, re.IGNORECASE)\n",
    "    # Default to the full query if no match\n",
    "    city = match.group(1).strip() if match else query.strip()\n",
    "    # Define the weather app URL for the API call\n",
    "    api_url = f\"{WEATHER_API_BASE_URL}/weather/?city_name={city}\"\n",
    "\n",
    "    # Make the API call to the weather-app\n",
    "    try:\n",
    "        response = requests.get(api_url)\n",
    "        response.raise_for_status()\n",
    "        weather_data = response.json()\n",
    "\n",
    "        # Extract relevant weather information from the JSON response\n",
    "        temperature = weather_data.get(\"temperature\", \"N/A\")\n",
    "        cloud_cover = weather_data.get(\"cloud_cover\", \"N/A\")\n",
    "        humidity = weather_data.get(\"relative_humidity\", \"N/A\")\n",
    "        wind_speed = weather_data.get(\"wind_speed\", \"N/A\")\n",
    "\n",
    "        # Format the output message\n",
    "        weather_info = (f\"The current weather in {city} is as follows:\\n\"\n",
    "                        f\"Temperature: {temperature}°C\\n\"\n",
    "                        f\"Cloud Cover: {cloud_cover}%\\n\"\n",
    "                        f\"Humidity: {humidity}%\\n\"\n",
    "                        f\"Wind Speed: {wind_speed} km/h\")\n",
    "        return weather_info\n",
    "\n",
    "    except requests.exceptions.RequestException as e:\n",
    "        return f\"Error fetching weather data: {str(e)}\"\n",
    "\n",
    "# Analyze tool\n",
    "@tool\n",
    "def analyze(query: str):\n",
    "    \"\"\"Simulate an analysis tool for technical questions.\"\"\"\n",
    "    return f\"Analyzing the concept of {query}... The analysis is complete.\""
   ]
  },
  {
   "cell_type": "code",
   "execution_count": 4,
   "id": "2b9267b0-9526-4219-ba37-76ac09fb3d49",
   "metadata": {
    "tags": []
   },
   "outputs": [],
   "source": [
    "# Weather App API URL\n",
    "# WEATHER_API_BASE_URL = \"http://weather-app:8000\"\n",
    "WEATHER_API_BASE_URL = \"http://weather-app.llm-deploy.svc.cluster.local:8000\""
   ]
  },
  {
   "cell_type": "markdown",
   "id": "b7d905a0-c6f0-4ae8-9be3-0c0618a010c2",
   "metadata": {
    "tags": []
   },
   "source": [
    "### Initialize LLM\n",
    "Set up the Large Language Model (LLM) using the VLLM interface. This model will process inputs and optionally invoke tools."
   ]
  },
  {
   "cell_type": "code",
   "execution_count": 5,
   "id": "77f95a70-89fb-4e21-a51c-24e862b7953e",
   "metadata": {
    "tags": []
   },
   "outputs": [],
   "source": [
    "# LLM Inference Server URL\n",
    "# INFERENCE_SERVER_URL = \"http://localhost:8080\"\n",
    "# MODEL_NAME = \"mistralai/Mistral-7B-Instruct-v0.3\"\n",
    "# API_KEY= \"alanliuxiang\"\n",
    "\n",
    "INFERENCE_SERVER_URL = \"http://localhost:8000\"\n",
    "MODEL_NAME = \"ibm-granite/granite-3.0-8b-instruct\"\n",
    "API_KEY= \"alanliuxiang\"\n",
    "\n",
    "# INFERENCE_SERVER_URL = \"https://api.feidaapi.com\"\n",
    "# MODEL_NAME = \"gpt-4\"\n",
    "# API_KEY= \"sk-TsoMJYTiW1Ya1AatboGdUGXEdCOAWeCeIbvUCkNMonrCHoQ7\"\n",
    "\n",
    "# LLM definition\n",
    "llm = ChatOpenAI(\n",
    "    openai_api_key=API_KEY,\n",
    "    openai_api_base= f\"{INFERENCE_SERVER_URL}/v1\",\n",
    "    model_name=MODEL_NAME,\n",
    "    top_p=0.92,\n",
    "    temperature=0.01,\n",
    "    max_tokens=512,\n",
    "    presence_penalty=1.03,\n",
    "    streaming=True,\n",
    "    callbacks=[StreamingStdOutCallbackHandler()]\n",
    ")"
   ]
  },
  {
   "cell_type": "markdown",
   "id": "79edf17e-4366-4f92-9461-64e25cf0ed55",
   "metadata": {},
   "source": [
    "Create a prompt template that the LLM will use to generate responses. This template guides the LLM to use tools when necessary."
   ]
  },
  {
   "cell_type": "code",
   "execution_count": 6,
   "id": "3e915928-a538-48d6-8547-7de9ccfbc9ef",
   "metadata": {
    "tags": []
   },
   "outputs": [],
   "source": [
    "# Define the combined prompt template\n",
    "template = \"\"\"<s>[INST]<<SYS>>\n",
    "You are a helpful, respectful, and honest assistant. Always be as helpful as possible, while being safe.\n",
    "You will be asked a question, to which you must give an answer.\n",
    "Your answer should not include any harmful, unethical, racist, sexist, toxic, dangerous, or illegal content.\n",
    "Please ensure that your responses are socially unbiased and positive in nature.\n",
    "If a question does not make any sense, or is not factually coherent, explain why instead of answering something incorrect.\n",
    "If the question requires real-time information or specific technical analysis that you cannot provide directly, respond by indicating you will use a tool to retrieve the information and then use the tool to provide the accurate data.\n",
    "<</SYS>>\n",
    "\n",
    "### QUESTION:\n",
    "{input}\n",
    "\n",
    "### ANSWER:\n",
    "If this question requires real-time information or analysis, I will retrieve the data for you using a reliable source or tool.\n",
    "[/INST]\n",
    "\"\"\"\n",
    "PROMPT = PromptTemplate(input_variables=[\"input\"], template=template)"
   ]
  },
  {
   "cell_type": "markdown",
   "id": "1b63d21a-af73-40f6-908b-391eedd3b2ab",
   "metadata": {
    "tags": []
   },
   "source": [
    "### Define Conditional Logic for Workflow Continuation\n",
    "Create a function to determine whether the workflow should continue to the tools node or stop based on the LLM's output."
   ]
  },
  {
   "cell_type": "code",
   "execution_count": 7,
   "id": "4344c515-9c7d-461e-9542-95e35344b3c3",
   "metadata": {
    "tags": []
   },
   "outputs": [],
   "source": [
    "# List to track tool usage\n",
    "tools_used_log = []\n",
    "\n",
    "# Define the function that determines whether to continue or not\n",
    "def should_continue(state: MessagesState) -> Literal[\"tools\", END]:\n",
    "    messages = state['messages']\n",
    "    last_message = messages[-1]\n",
    "    # If the LLM makes a tool call, then we route to the \"tools\" node\n",
    "    if last_message.tool_calls:\n",
    "        return \"tools\"\n",
    "    # Otherwise, we stop (reply to the user)\n",
    "    return END"
   ]
  },
  {
   "cell_type": "markdown",
   "id": "aa4a242d-4ec6-4eb4-bb48-cd1faa389941",
   "metadata": {},
   "source": [
    "### Create the Function to Call the LLM\n",
    "Define a function that sends the formatted prompt to the LLM and decides whether to invoke any tools based on the query.\n"
   ]
  },
  {
   "cell_type": "code",
   "execution_count": 8,
   "id": "008fe1d3-ab4d-4852-8085-f580a1d1f4cf",
   "metadata": {
    "tags": []
   },
   "outputs": [],
   "source": [
    "def call_model(state: MessagesState):\n",
    "    messages = state['messages']\n",
    "    user_query = messages[-1].content.lower()\n",
    "\n",
    "    # Check if the query is about weather\n",
    "    if \"weather\" in user_query or \"forecast\" in user_query:\n",
    "        # Invoke the weather tool directly\n",
    "        tool_result = search.invoke(user_query)\n",
    "        if isinstance(tool_result, str):\n",
    "            ai_message = AIMessage(content=tool_result)\n",
    "        else:\n",
    "            ai_message = AIMessage(content=\"Error fetching weather data.\")\n",
    "        tools_used_log.append(\"search\")  # Log the tool usage\n",
    "    else:\n",
    "        # Process non-weather queries through the LLM\n",
    "        formatted_prompt = PROMPT.format(input=user_query)\n",
    "        response = llm.invoke(formatted_prompt)\n",
    "\n",
    "        # Create AIMessage based on LLM's response\n",
    "        if \"analyze\" in user_query or \"technical\" in user_query:\n",
    "            tool_result = analyze.invoke(user_query)\n",
    "            final_response = f\"{tool_result}. If you need further information, feel free to ask.\"\n",
    "            ai_message = AIMessage(content=final_response)\n",
    "            tools_used_log.append(\"analyze\")  # Log the tool usage\n",
    "        else:\n",
    "            ai_message = AIMessage(content=response)\n",
    "\n",
    "    return {\"messages\": [ai_message]}\n"
   ]
  },
  {
   "cell_type": "markdown",
   "id": "1f22696a-59f5-400a-841a-29ee382219d4",
   "metadata": {},
   "source": [
    "### Agentic AI Workflow Logic\n",
    "First, we need to set the entry point for graph execution - agent node.\n",
    "\n",
    "Then we define one normal and one conditional edge. Conditional edge means that the destination depends on the contents of the graph's state (MessageState). In our case, the destination is not known until the agent (LLM) decides.\n",
    "\n",
    "* Conditional edge: after the agent is called, we should either:\n",
    "  * Run tools if the agent said to take an action, OR\n",
    "  * Finish (respond to the user) if the agent did not ask to run tools\n",
    "* Normal edge: after the tools are invoked, the graph should always return to the agent to decide what to do next"
   ]
  },
  {
   "cell_type": "code",
   "execution_count": 9,
   "id": "941837cf-2c21-4633-9c7e-82ee33eb6d3c",
   "metadata": {
    "tags": []
   },
   "outputs": [
    {
     "data": {
      "text/plain": [
       "<langgraph.graph.state.StateGraph at 0x7fde8d9eb9d0>"
      ]
     },
     "execution_count": 9,
     "metadata": {},
     "output_type": "execute_result"
    }
   ],
   "source": [
    "# Define the workflow\n",
    "tools = [search, analyze]\n",
    "tool_node = ToolNode(tools)\n",
    "\n",
    "# we initialize graph (StateGraph) by passing state schema (in our case MessagesState)\n",
    "workflow = StateGraph(MessagesState)\n",
    "\n",
    "# The agent node: responsible for deciding what (if any) actions to take.\n",
    "workflow.add_node(\"agent\", call_model)\n",
    "\n",
    "# The tools node that invokes tools: if the agent decides to take an action, this node will then execute that action.\n",
    "workflow.add_node(\"tools\", tool_node)\n",
    "\n",
    "# Set the entry point of the workflow to the \"agent\" node\n",
    "workflow.add_edge(START, \"agent\")\n",
    "\n",
    "# Add conditional edges based on the LLM's response\n",
    "workflow.add_conditional_edges(\"agent\", should_continue)\n",
    "\n",
    "# Add a normal edge from the \"tools\" node back to the \"agent\" node\n",
    "workflow.add_edge(\"tools\", 'agent')"
   ]
  },
  {
   "cell_type": "markdown",
   "id": "ab372594-a34c-4bc8-81e4-a9045542b061",
   "metadata": {},
   "source": [
    "### Compile the graph\n",
    "* When we compile the graph, we turn it into a LangChain Runnable, which automatically enables calling .invoke(), .stream() and .batch() with your inputs\n",
    "* We can also optionally pass checkpointer object for persisting state between graph runs, and enabling memory, human-in-the-loop workflows, time travel and more. In our case we use MemorySaver - a simple in-memory checkpointer"
   ]
  },
  {
   "cell_type": "code",
   "execution_count": 10,
   "id": "2247b2e9-320e-4dad-99bc-fd2f5af64474",
   "metadata": {},
   "outputs": [],
   "source": [
    "# Initialize memory\n",
    "# Use `MemorySaver` to allow the workflow to persist state between executions, maintaining context.\n",
    "checkpointer = MemorySaver()"
   ]
  },
  {
   "cell_type": "code",
   "execution_count": 11,
   "id": "4be0c7aa-24d6-4fcf-abb9-6efbeab6df93",
   "metadata": {},
   "outputs": [],
   "source": [
    "# Compile the workflow into a runnable app\n",
    "app = workflow.compile(checkpointer=checkpointer)"
   ]
  },
  {
   "cell_type": "code",
   "execution_count": 12,
   "id": "5658820a-8158-46b9-b991-05cf61e42e69",
   "metadata": {
    "tags": []
   },
   "outputs": [
    {
     "data": {
      "image/png": "[encoded data removed]",
      "text/plain": [
       "<IPython.core.display.Image object>"
      ]
     },
     "metadata": {},
     "output_type": "display_data"
    }
   ],
   "source": [
    "from IPython.display import Image, display\n",
    "\n",
    "try:\n",
    "    display(Image(app.get_graph(xray=True).draw_mermaid_png()))\n",
    "except Exception:\n",
    "    # This requires some extra dependencies and is optional\n",
    "    print(\"Graph visualization failed. Ensure you have the required dependencies.\")"
   ]
  },
  {
   "cell_type": "markdown",
   "id": "1ebc259e-fd41-4696-9716-eaa4a432b325",
   "metadata": {},
   "source": [
    "### Invoke the Workflow with an Example Input and Check the Tool Usage (if any)\n",
    "* Run the workflow with a sample input\n",
    "* Print which tools were used during the session, if any.\n",
    "\n",
    "\n",
    "1. LangGraph adds the input message to the internal state, then passes the state to the entrypoint node, \"agent\".\n",
    "2. The \"agent\" node executes, invoking the chat model.\n",
    "3. The chat model returns an AIMessage. LangGraph adds this to the state.\n",
    "4. Graph cycles the following steps until there are no more tool_calls on AIMessage:\n",
    "    * If AIMessage has tool_calls, \"tools\" node executes\n",
    "    * The \"agent\" node executes again and returns AIMessage\n",
    "5. Execution progresses to the special END value and outputs the final state. And as a result, we get a list of all our chat messages as output."
   ]
  },
  {
   "cell_type": "code",
   "execution_count": 13,
   "id": "7e88cc9b-5b44-44dc-a7f5-f02b39eee0ab",
   "metadata": {
    "tags": []
   },
   "outputs": [
    {
     "name": "stdout",
     "output_type": "stream",
     "text": [
      "The current weather in dolomites is as follows:\n",
      "Temperature: -2.700000047683716°C\n",
      "Cloud Cover: 100.0%\n",
      "Humidity: 98.0%\n",
      "Wind Speed: 2.595996856689453 km/h\n",
      "Tool used: search\n"
     ]
    }
   ],
   "source": [
    "# Invoke the workflow with an example input\n",
    "input_prompt = \"What is the weather in Dolomites?\"\n",
    "\n",
    "final_state = app.invoke(\n",
    "    {\"messages\": [HumanMessage(content=input_prompt)]},\n",
    "    config={\"configurable\": {\"thread_id\": 42}}\n",
    ")\n",
    "\n",
    "# Output the last response\n",
    "print(final_state[\"messages\"][-1].content)\n",
    "\n",
    "# Inspect which tools were used during this session\n",
    "if not tools_used_log:\n",
    "    print(\"No tools were used.\")\n",
    "else:\n",
    "    for tool_name in tools_used_log:\n",
    "        print(f\"Tool used: {tool_name}\")"
   ]
  },
  {
   "cell_type": "code",
   "execution_count": 14,
   "id": "93d88c99-ef82-446e-a33a-e035c7573426",
   "metadata": {
    "tags": []
   },
   "outputs": [
    {
     "name": "stdout",
     "output_type": "stream",
     "text": [
      "The Dolomites and the Catalan Pyrenees both offer unique hiking experiences, and the preference for one over the other can be subjective, depending on individual preferences. However, there are a few reasons why some might prefer hiking in the Dolomites:\n",
      "\n",
      "1. **Diversity of Trails**: The Dolomites offer a wide range of trails suitable for all levels of hikers, from beginners to experienced mountaineers. \n",
      "\n",
      "2. **Scenic Beauty**: The Dolomites are renowned for their stunning landscapes, featuring towering peaks, deep valleys, and beautiful alpine meadows. This dramatic scenery can make for a more visually appealing hike.\n",
      "\n",
      "3. **Cultural Experience**: Hiking in the Dolomites also offers the opportunity to experience the unique culture of the region, which is a blend of Italian and Austrian influences.\n",
      "\n",
      "4. **Well-Marked Trails and Refugios**: The Dolomites have an extensive network of well-marked trails and mountain huts (refugios), making it easier for hikers to plan their routes and find accommodation.\n",
      "\n",
      "5. **UNESCO World Heritage Site**: The Dolomites are recognized as a UNESCO World Heritage site due to their exceptional natural beauty and the unique geological and geomorphological significance.\n",
      "\n",
      "However, this doesn't mean that the Catalan Pyrenees are not worth exploring. They also offer beautiful landscapes, diverse flora and fauna, and rich cultural experiences. Ultimately, the choice between the two would depend on individual preferences and what one is looking to get out of their hiking experience.Analyzing the concept of analyze why dolomites is better than catalan pyrenees for hiking... The analysis is complete.. If you need further information, feel free to ask.\n",
      "Tool used: analyze\n"
     ]
    }
   ],
   "source": [
    "# Initialize tools_used_log before invoking the workflow\n",
    "tools_used_log = []  # Reset the log to ensure it's fresh for each session\n",
    "\n",
    "# Invoke the workflow with an example input\n",
    "input_prompt = \"Analyze why Dolomites is better than Catalan Pyrenees for hiking\"\n",
    "\n",
    "final_state = app.invoke(\n",
    "    {\"messages\": [HumanMessage(content=input_prompt)]},\n",
    "    config={\"configurable\": {\"thread_id\": 42}}\n",
    ")\n",
    "\n",
    "# Output the last response\n",
    "print(final_state[\"messages\"][-1].content)\n",
    "\n",
    "# Inspect which tools were used during this session\n",
    "if not tools_used_log:\n",
    "    print(\"No tools were used.\")\n",
    "else:\n",
    "    for tool_name in tools_used_log:\n",
    "        print(f\"Tool used: {tool_name}\")"
   ]
  },
  {
   "cell_type": "code",
   "execution_count": 15,
   "id": "ed216840-9bf7-4165-9c57-3fd7f6cd4b14",
   "metadata": {
    "tags": []
   },
   "outputs": [
    {
     "name": "stdout",
     "output_type": "stream",
     "text": [
      "When planning a hike in mountainous regions like the Dolomites, it's important to be well-prepared. Here are some essential items you should consider:\n",
      "\n",
      "1. Hiking Boots: A good pair of hiking boots is crucial for any mountain trek. They should be waterproof, durable, and comfortable.\n",
      "\n",
      "2. Clothing: Dress in layers so you can adjust your clothing to the weather conditions. Include moisture-wicking base layers, an insulating mid-layer, and a waterproof outer layer. Don't forget a hat and gloves.\n",
      "\n",
      "3. Backpack: A sturdy backpack to carry all your gear is necessary. Make sure it has enough space for all your essentials and is comfortable to wear for long periods.\n",
      "\n",
      "4. Food and Water: Always bring more than you think you'll need. Consider bringing a water filter or purification tablets as well.\n",
      "\n",
      "5. Navigation Tools: A map and compass are essential, even if you plan to use a GPS device. \n",
      "\n",
      "6. First Aid Kit: This should include bandages, antiseptic wipes, tweezers, medical tape, pain relievers, and any personal medication.\n",
      "\n",
      "7. Multi-tool: A multi-tool can be handy for a variety of situations, from repairing gear to preparing food.\n",
      "\n",
      "8. Headlamp: A headlamp or flashlight is important, even if you don't plan to hike at night. It can be useful in emergencies.\n",
      "\n",
      "9. Emergency Shelter: A lightweight tent or bivvy sack can be a lifesaver if you get stuck overnight.\n",
      "\n",
      "10. Sun Protection: Sunglasses, sunblock, and lip balm are all important to protect against the sun's rays at high altitudes.\n",
      "\n",
      "Remember, this list is not exhaustive and the specific gear you need may vary depending on the time of year, weather conditions, and the specific trails you plan to hike. Always check local advice and trail conditions before setting out."
     ]
    },
    {
     "ename": "ValidationError",
     "evalue": "21 validation errors for AIMessage\ncontent.str\n  Input should be a valid string [type=string_type, input_value=AIMessage(content=\"When p...ee-9ae8-d4ae13c57fb3-0'), input_type=AIMessage]\n    For further information visit https://errors.pydantic.dev/2.10/v/string_type\ncontent.list[union[str,dict[any,any]]].0.str\n  Input should be a valid string [type=string_type, input_value=('content', \"When plannin...ns before setting out.\"), input_type=tuple]\n    For further information visit https://errors.pydantic.dev/2.10/v/string_type\ncontent.list[union[str,dict[any,any]]].0.dict[any,any]\n  Input should be a valid dictionary [type=dict_type, input_value=('content', \"When plannin...ns before setting out.\"), input_type=tuple]\n    For further information visit https://errors.pydantic.dev/2.10/v/dict_type\ncontent.list[union[str,dict[any,any]]].1.str\n  Input should be a valid string [type=string_type, input_value=('additional_kwargs', {}), input_type=tuple]\n    For further information visit https://errors.pydantic.dev/2.10/v/string_type\ncontent.list[union[str,dict[any,any]]].1.dict[any,any]\n  Input should be a valid dictionary [type=dict_type, input_value=('additional_kwargs', {}), input_type=tuple]\n    For further information visit https://errors.pydantic.dev/2.10/v/dict_type\ncontent.list[union[str,dict[any,any]]].2.str\n  Input should be a valid string [type=string_type, input_value=('response_metadata', {'f... 'model_name': 'gpt-4'}), input_type=tuple]\n    For further information visit https://errors.pydantic.dev/2.10/v/string_type\ncontent.list[union[str,dict[any,any]]].2.dict[any,any]\n  Input should be a valid dictionary [type=dict_type, input_value=('response_metadata', {'f... 'model_name': 'gpt-4'}), input_type=tuple]\n    For further information visit https://errors.pydantic.dev/2.10/v/dict_type\ncontent.list[union[str,dict[any,any]]].3.str\n  Input should be a valid string [type=string_type, input_value=('type', 'ai'), input_type=tuple]\n    For further information visit https://errors.pydantic.dev/2.10/v/string_type\ncontent.list[union[str,dict[any,any]]].3.dict[any,any]\n  Input should be a valid dictionary [type=dict_type, input_value=('type', 'ai'), input_type=tuple]\n    For further information visit https://errors.pydantic.dev/2.10/v/dict_type\ncontent.list[union[str,dict[any,any]]].4.str\n  Input should be a valid string [type=string_type, input_value=('name', None), input_type=tuple]\n    For further information visit https://errors.pydantic.dev/2.10/v/string_type\ncontent.list[union[str,dict[any,any]]].4.dict[any,any]\n  Input should be a valid dictionary [type=dict_type, input_value=('name', None), input_type=tuple]\n    For further information visit https://errors.pydantic.dev/2.10/v/dict_type\ncontent.list[union[str,dict[any,any]]].5.str\n  Input should be a valid string [type=string_type, input_value=('id', 'run-5b14eeef-f643...ee-9ae8-d4ae13c57fb3-0'), input_type=tuple]\n    For further information visit https://errors.pydantic.dev/2.10/v/string_type\ncontent.list[union[str,dict[any,any]]].5.dict[any,any]\n  Input should be a valid dictionary [type=dict_type, input_value=('id', 'run-5b14eeef-f643...ee-9ae8-d4ae13c57fb3-0'), input_type=tuple]\n    For further information visit https://errors.pydantic.dev/2.10/v/dict_type\ncontent.list[union[str,dict[any,any]]].6.str\n  Input should be a valid string [type=string_type, input_value=('example', False), input_type=tuple]\n    For further information visit https://errors.pydantic.dev/2.10/v/string_type\ncontent.list[union[str,dict[any,any]]].6.dict[any,any]\n  Input should be a valid dictionary [type=dict_type, input_value=('example', False), input_type=tuple]\n    For further information visit https://errors.pydantic.dev/2.10/v/dict_type\ncontent.list[union[str,dict[any,any]]].7.str\n  Input should be a valid string [type=string_type, input_value=('tool_calls', []), input_type=tuple]\n    For further information visit https://errors.pydantic.dev/2.10/v/string_type\ncontent.list[union[str,dict[any,any]]].7.dict[any,any]\n  Input should be a valid dictionary [type=dict_type, input_value=('tool_calls', []), input_type=tuple]\n    For further information visit https://errors.pydantic.dev/2.10/v/dict_type\ncontent.list[union[str,dict[any,any]]].8.str\n  Input should be a valid string [type=string_type, input_value=('invalid_tool_calls', []), input_type=tuple]\n    For further information visit https://errors.pydantic.dev/2.10/v/string_type\ncontent.list[union[str,dict[any,any]]].8.dict[any,any]\n  Input should be a valid dictionary [type=dict_type, input_value=('invalid_tool_calls', []), input_type=tuple]\n    For further information visit https://errors.pydantic.dev/2.10/v/dict_type\ncontent.list[union[str,dict[any,any]]].9.str\n  Input should be a valid string [type=string_type, input_value=('usage_metadata', None), input_type=tuple]\n    For further information visit https://errors.pydantic.dev/2.10/v/string_type\ncontent.list[union[str,dict[any,any]]].9.dict[any,any]\n  Input should be a valid dictionary [type=dict_type, input_value=('usage_metadata', None), input_type=tuple]\n    For further information visit https://errors.pydantic.dev/2.10/v/dict_type",
     "output_type": "error",
     "traceback": [
      "\u001b[0;31m---------------------------------------------------------------------------\u001b[0m",
      "\u001b[0;31mValidationError\u001b[0m                           Traceback (most recent call last)",
      "Cell \u001b[0;32mIn[15], line 7\u001b[0m\n\u001b[1;32m      4\u001b[0m \u001b[38;5;66;03m# Invoke the workflow with an example input\u001b[39;00m\n\u001b[1;32m      5\u001b[0m input_prompt \u001b[38;5;241m=\u001b[39m \u001b[38;5;124m\"\u001b[39m\u001b[38;5;124mWhat gear should I bring to hike mountains like Dolomites?\u001b[39m\u001b[38;5;124m\"\u001b[39m\n\u001b[0;32m----> 7\u001b[0m final_state \u001b[38;5;241m=\u001b[39m \u001b[43mapp\u001b[49m\u001b[38;5;241;43m.\u001b[39;49m\u001b[43minvoke\u001b[49m\u001b[43m(\u001b[49m\n\u001b[1;32m      8\u001b[0m \u001b[43m    \u001b[49m\u001b[43m{\u001b[49m\u001b[38;5;124;43m\"\u001b[39;49m\u001b[38;5;124;43mmessages\u001b[39;49m\u001b[38;5;124;43m\"\u001b[39;49m\u001b[43m:\u001b[49m\u001b[43m \u001b[49m\u001b[43m[\u001b[49m\u001b[43mHumanMessage\u001b[49m\u001b[43m(\u001b[49m\u001b[43mcontent\u001b[49m\u001b[38;5;241;43m=\u001b[39;49m\u001b[43minput_prompt\u001b[49m\u001b[43m)\u001b[49m\u001b[43m]\u001b[49m\u001b[43m}\u001b[49m\u001b[43m,\u001b[49m\n\u001b[1;32m      9\u001b[0m \u001b[43m    \u001b[49m\u001b[43mconfig\u001b[49m\u001b[38;5;241;43m=\u001b[39;49m\u001b[43m{\u001b[49m\u001b[38;5;124;43m\"\u001b[39;49m\u001b[38;5;124;43mconfigurable\u001b[39;49m\u001b[38;5;124;43m\"\u001b[39;49m\u001b[43m:\u001b[49m\u001b[43m \u001b[49m\u001b[43m{\u001b[49m\u001b[38;5;124;43m\"\u001b[39;49m\u001b[38;5;124;43mthread_id\u001b[39;49m\u001b[38;5;124;43m\"\u001b[39;49m\u001b[43m:\u001b[49m\u001b[43m \u001b[49m\u001b[38;5;241;43m42\u001b[39;49m\u001b[43m}\u001b[49m\u001b[43m}\u001b[49m\n\u001b[1;32m     10\u001b[0m \u001b[43m)\u001b[49m\n\u001b[1;32m     12\u001b[0m \u001b[38;5;66;03m# Output the last response\u001b[39;00m\n\u001b[1;32m     13\u001b[0m \u001b[38;5;28mprint\u001b[39m(final_state[\u001b[38;5;124m\"\u001b[39m\u001b[38;5;124mmessages\u001b[39m\u001b[38;5;124m\"\u001b[39m][\u001b[38;5;241m-\u001b[39m\u001b[38;5;241m1\u001b[39m]\u001b[38;5;241m.\u001b[39mcontent)\n",
      "File \u001b[0;32m/opt/app-root/lib64/python3.11/site-packages/langgraph/pregel/__init__.py:1955\u001b[0m, in \u001b[0;36mPregel.invoke\u001b[0;34m(self, input, config, stream_mode, output_keys, interrupt_before, interrupt_after, debug, **kwargs)\u001b[0m\n\u001b[1;32m   1953\u001b[0m \u001b[38;5;28;01melse\u001b[39;00m:\n\u001b[1;32m   1954\u001b[0m     chunks \u001b[38;5;241m=\u001b[39m []\n\u001b[0;32m-> 1955\u001b[0m \u001b[38;5;28;01mfor\u001b[39;00m chunk \u001b[38;5;129;01min\u001b[39;00m \u001b[38;5;28mself\u001b[39m\u001b[38;5;241m.\u001b[39mstream(\n\u001b[1;32m   1956\u001b[0m     \u001b[38;5;28minput\u001b[39m,\n\u001b[1;32m   1957\u001b[0m     config,\n\u001b[1;32m   1958\u001b[0m     stream_mode\u001b[38;5;241m=\u001b[39mstream_mode,\n\u001b[1;32m   1959\u001b[0m     output_keys\u001b[38;5;241m=\u001b[39moutput_keys,\n\u001b[1;32m   1960\u001b[0m     interrupt_before\u001b[38;5;241m=\u001b[39minterrupt_before,\n\u001b[1;32m   1961\u001b[0m     interrupt_after\u001b[38;5;241m=\u001b[39minterrupt_after,\n\u001b[1;32m   1962\u001b[0m     debug\u001b[38;5;241m=\u001b[39mdebug,\n\u001b[1;32m   1963\u001b[0m     \u001b[38;5;241m*\u001b[39m\u001b[38;5;241m*\u001b[39mkwargs,\n\u001b[1;32m   1964\u001b[0m ):\n\u001b[1;32m   1965\u001b[0m     \u001b[38;5;28;01mif\u001b[39;00m stream_mode \u001b[38;5;241m==\u001b[39m \u001b[38;5;124m\"\u001b[39m\u001b[38;5;124mvalues\u001b[39m\u001b[38;5;124m\"\u001b[39m:\n\u001b[1;32m   1966\u001b[0m         latest \u001b[38;5;241m=\u001b[39m chunk\n",
      "File \u001b[0;32m/opt/app-root/lib64/python3.11/site-packages/langgraph/pregel/__init__.py:1670\u001b[0m, in \u001b[0;36mPregel.stream\u001b[0;34m(self, input, config, stream_mode, output_keys, interrupt_before, interrupt_after, debug, subgraphs)\u001b[0m\n\u001b[1;32m   1664\u001b[0m     \u001b[38;5;66;03m# Similarly to Bulk Synchronous Parallel / Pregel model\u001b[39;00m\n\u001b[1;32m   1665\u001b[0m     \u001b[38;5;66;03m# computation proceeds in steps, while there are channel updates.\u001b[39;00m\n\u001b[1;32m   1666\u001b[0m     \u001b[38;5;66;03m# Channel updates from step N are only visible in step N+1\u001b[39;00m\n\u001b[1;32m   1667\u001b[0m     \u001b[38;5;66;03m# channels are guaranteed to be immutable for the duration of the step,\u001b[39;00m\n\u001b[1;32m   1668\u001b[0m     \u001b[38;5;66;03m# with channel updates applied only at the transition between steps.\u001b[39;00m\n\u001b[1;32m   1669\u001b[0m     \u001b[38;5;28;01mwhile\u001b[39;00m loop\u001b[38;5;241m.\u001b[39mtick(input_keys\u001b[38;5;241m=\u001b[39m\u001b[38;5;28mself\u001b[39m\u001b[38;5;241m.\u001b[39minput_channels):\n\u001b[0;32m-> 1670\u001b[0m         \u001b[38;5;28;01mfor\u001b[39;00m _ \u001b[38;5;129;01min\u001b[39;00m runner\u001b[38;5;241m.\u001b[39mtick(\n\u001b[1;32m   1671\u001b[0m             loop\u001b[38;5;241m.\u001b[39mtasks\u001b[38;5;241m.\u001b[39mvalues(),\n\u001b[1;32m   1672\u001b[0m             timeout\u001b[38;5;241m=\u001b[39m\u001b[38;5;28mself\u001b[39m\u001b[38;5;241m.\u001b[39mstep_timeout,\n\u001b[1;32m   1673\u001b[0m             retry_policy\u001b[38;5;241m=\u001b[39m\u001b[38;5;28mself\u001b[39m\u001b[38;5;241m.\u001b[39mretry_policy,\n\u001b[1;32m   1674\u001b[0m             get_waiter\u001b[38;5;241m=\u001b[39mget_waiter,\n\u001b[1;32m   1675\u001b[0m         ):\n\u001b[1;32m   1676\u001b[0m             \u001b[38;5;66;03m# emit output\u001b[39;00m\n\u001b[1;32m   1677\u001b[0m             \u001b[38;5;28;01myield from\u001b[39;00m output()\n\u001b[1;32m   1678\u001b[0m \u001b[38;5;66;03m# emit output\u001b[39;00m\n",
      "File \u001b[0;32m/opt/app-root/lib64/python3.11/site-packages/langgraph/pregel/runner.py:171\u001b[0m, in \u001b[0;36mPregelRunner.tick\u001b[0;34m(self, tasks, reraise, timeout, retry_policy, get_waiter)\u001b[0m\n\u001b[1;32m    169\u001b[0m t \u001b[38;5;241m=\u001b[39m tasks[\u001b[38;5;241m0\u001b[39m]\n\u001b[1;32m    170\u001b[0m \u001b[38;5;28;01mtry\u001b[39;00m:\n\u001b[0;32m--> 171\u001b[0m     \u001b[43mrun_with_retry\u001b[49m\u001b[43m(\u001b[49m\n\u001b[1;32m    172\u001b[0m \u001b[43m        \u001b[49m\u001b[43mt\u001b[49m\u001b[43m,\u001b[49m\n\u001b[1;32m    173\u001b[0m \u001b[43m        \u001b[49m\u001b[43mretry_policy\u001b[49m\u001b[43m,\u001b[49m\n\u001b[1;32m    174\u001b[0m \u001b[43m        \u001b[49m\u001b[43mconfigurable\u001b[49m\u001b[38;5;241;43m=\u001b[39;49m\u001b[43m{\u001b[49m\n\u001b[1;32m    175\u001b[0m \u001b[43m            \u001b[49m\u001b[43mCONFIG_KEY_SEND\u001b[49m\u001b[43m:\u001b[49m\u001b[43m \u001b[49m\u001b[43mpartial\u001b[49m\u001b[43m(\u001b[49m\u001b[43mwriter\u001b[49m\u001b[43m,\u001b[49m\u001b[43m \u001b[49m\u001b[43mt\u001b[49m\u001b[43m)\u001b[49m\u001b[43m,\u001b[49m\n\u001b[1;32m    176\u001b[0m \u001b[43m            \u001b[49m\u001b[43mCONFIG_KEY_CALL\u001b[49m\u001b[43m:\u001b[49m\u001b[43m \u001b[49m\u001b[43mpartial\u001b[49m\u001b[43m(\u001b[49m\u001b[43mcall\u001b[49m\u001b[43m,\u001b[49m\u001b[43m \u001b[49m\u001b[43mt\u001b[49m\u001b[43m)\u001b[49m\u001b[43m,\u001b[49m\n\u001b[1;32m    177\u001b[0m \u001b[43m        \u001b[49m\u001b[43m}\u001b[49m\u001b[43m,\u001b[49m\n\u001b[1;32m    178\u001b[0m \u001b[43m    \u001b[49m\u001b[43m)\u001b[49m\n\u001b[1;32m    179\u001b[0m     \u001b[38;5;28mself\u001b[39m\u001b[38;5;241m.\u001b[39mcommit(t, \u001b[38;5;28;01mNone\u001b[39;00m)\n\u001b[1;32m    180\u001b[0m \u001b[38;5;28;01mexcept\u001b[39;00m \u001b[38;5;167;01mException\u001b[39;00m \u001b[38;5;28;01mas\u001b[39;00m exc:\n",
      "File \u001b[0;32m/opt/app-root/lib64/python3.11/site-packages/langgraph/pregel/retry.py:40\u001b[0m, in \u001b[0;36mrun_with_retry\u001b[0;34m(task, retry_policy, configurable)\u001b[0m\n\u001b[1;32m     38\u001b[0m     task\u001b[38;5;241m.\u001b[39mwrites\u001b[38;5;241m.\u001b[39mclear()\n\u001b[1;32m     39\u001b[0m     \u001b[38;5;66;03m# run the task\u001b[39;00m\n\u001b[0;32m---> 40\u001b[0m     \u001b[38;5;28;01mreturn\u001b[39;00m \u001b[43mtask\u001b[49m\u001b[38;5;241;43m.\u001b[39;49m\u001b[43mproc\u001b[49m\u001b[38;5;241;43m.\u001b[39;49m\u001b[43minvoke\u001b[49m\u001b[43m(\u001b[49m\u001b[43mtask\u001b[49m\u001b[38;5;241;43m.\u001b[39;49m\u001b[43minput\u001b[49m\u001b[43m,\u001b[49m\u001b[43m \u001b[49m\u001b[43mconfig\u001b[49m\u001b[43m)\u001b[49m\n\u001b[1;32m     41\u001b[0m \u001b[38;5;28;01mexcept\u001b[39;00m ParentCommand \u001b[38;5;28;01mas\u001b[39;00m exc:\n\u001b[1;32m     42\u001b[0m     ns: \u001b[38;5;28mstr\u001b[39m \u001b[38;5;241m=\u001b[39m config[CONF][CONFIG_KEY_CHECKPOINT_NS]\n",
      "File \u001b[0;32m/opt/app-root/lib64/python3.11/site-packages/langgraph/utils/runnable.py:422\u001b[0m, in \u001b[0;36mRunnableSeq.invoke\u001b[0;34m(self, input, config, **kwargs)\u001b[0m\n\u001b[1;32m    418\u001b[0m config \u001b[38;5;241m=\u001b[39m patch_config(\n\u001b[1;32m    419\u001b[0m     config, callbacks\u001b[38;5;241m=\u001b[39mrun_manager\u001b[38;5;241m.\u001b[39mget_child(\u001b[38;5;124mf\u001b[39m\u001b[38;5;124m\"\u001b[39m\u001b[38;5;124mseq:step:\u001b[39m\u001b[38;5;132;01m{\u001b[39;00mi\u001b[38;5;241m+\u001b[39m\u001b[38;5;241m1\u001b[39m\u001b[38;5;132;01m}\u001b[39;00m\u001b[38;5;124m\"\u001b[39m)\n\u001b[1;32m    420\u001b[0m )\n\u001b[1;32m    421\u001b[0m \u001b[38;5;28;01mif\u001b[39;00m i \u001b[38;5;241m==\u001b[39m \u001b[38;5;241m0\u001b[39m:\n\u001b[0;32m--> 422\u001b[0m     \u001b[38;5;28minput\u001b[39m \u001b[38;5;241m=\u001b[39m \u001b[43mstep\u001b[49m\u001b[38;5;241;43m.\u001b[39;49m\u001b[43minvoke\u001b[49m\u001b[43m(\u001b[49m\u001b[38;5;28;43minput\u001b[39;49m\u001b[43m,\u001b[49m\u001b[43m \u001b[49m\u001b[43mconfig\u001b[49m\u001b[43m,\u001b[49m\u001b[43m \u001b[49m\u001b[38;5;241;43m*\u001b[39;49m\u001b[38;5;241;43m*\u001b[39;49m\u001b[43mkwargs\u001b[49m\u001b[43m)\u001b[49m\n\u001b[1;32m    423\u001b[0m \u001b[38;5;28;01melse\u001b[39;00m:\n\u001b[1;32m    424\u001b[0m     \u001b[38;5;28minput\u001b[39m \u001b[38;5;241m=\u001b[39m step\u001b[38;5;241m.\u001b[39minvoke(\u001b[38;5;28minput\u001b[39m, config)\n",
      "File \u001b[0;32m/opt/app-root/lib64/python3.11/site-packages/langgraph/utils/runnable.py:197\u001b[0m, in \u001b[0;36mRunnableCallable.invoke\u001b[0;34m(self, input, config, **kwargs)\u001b[0m\n\u001b[1;32m    195\u001b[0m \u001b[38;5;28;01melse\u001b[39;00m:\n\u001b[1;32m    196\u001b[0m     context\u001b[38;5;241m.\u001b[39mrun(_set_config_context, config)\n\u001b[0;32m--> 197\u001b[0m     ret \u001b[38;5;241m=\u001b[39m \u001b[43mcontext\u001b[49m\u001b[38;5;241;43m.\u001b[39;49m\u001b[43mrun\u001b[49m\u001b[43m(\u001b[49m\u001b[38;5;28;43mself\u001b[39;49m\u001b[38;5;241;43m.\u001b[39;49m\u001b[43mfunc\u001b[49m\u001b[43m,\u001b[49m\u001b[43m \u001b[49m\u001b[38;5;28;43minput\u001b[39;49m\u001b[43m,\u001b[49m\u001b[43m \u001b[49m\u001b[38;5;241;43m*\u001b[39;49m\u001b[38;5;241;43m*\u001b[39;49m\u001b[43mkwargs\u001b[49m\u001b[43m)\u001b[49m\n\u001b[1;32m    198\u001b[0m \u001b[38;5;28;01mif\u001b[39;00m \u001b[38;5;28misinstance\u001b[39m(ret, Runnable) \u001b[38;5;129;01mand\u001b[39;00m \u001b[38;5;28mself\u001b[39m\u001b[38;5;241m.\u001b[39mrecurse:\n\u001b[1;32m    199\u001b[0m     \u001b[38;5;28;01mreturn\u001b[39;00m ret\u001b[38;5;241m.\u001b[39minvoke(\u001b[38;5;28minput\u001b[39m, config)\n",
      "Cell \u001b[0;32mIn[8], line 26\u001b[0m, in \u001b[0;36mcall_model\u001b[0;34m(state)\u001b[0m\n\u001b[1;32m     24\u001b[0m         tools_used_log\u001b[38;5;241m.\u001b[39mappend(\u001b[38;5;124m\"\u001b[39m\u001b[38;5;124manalyze\u001b[39m\u001b[38;5;124m\"\u001b[39m)  \u001b[38;5;66;03m# Log the tool usage\u001b[39;00m\n\u001b[1;32m     25\u001b[0m     \u001b[38;5;28;01melse\u001b[39;00m:\n\u001b[0;32m---> 26\u001b[0m         ai_message \u001b[38;5;241m=\u001b[39m \u001b[43mAIMessage\u001b[49m\u001b[43m(\u001b[49m\u001b[43mcontent\u001b[49m\u001b[38;5;241;43m=\u001b[39;49m\u001b[43mresponse\u001b[49m\u001b[43m)\u001b[49m\n\u001b[1;32m     28\u001b[0m \u001b[38;5;28;01mreturn\u001b[39;00m {\u001b[38;5;124m\"\u001b[39m\u001b[38;5;124mmessages\u001b[39m\u001b[38;5;124m\"\u001b[39m: [ai_message]}\n",
      "File \u001b[0;32m/opt/app-root/lib64/python3.11/site-packages/langchain_core/messages/ai.py:179\u001b[0m, in \u001b[0;36mAIMessage.__init__\u001b[0;34m(self, content, **kwargs)\u001b[0m\n\u001b[1;32m    170\u001b[0m \u001b[38;5;28;01mdef\u001b[39;00m \u001b[38;5;21m__init__\u001b[39m(\n\u001b[1;32m    171\u001b[0m     \u001b[38;5;28mself\u001b[39m, content: Union[\u001b[38;5;28mstr\u001b[39m, \u001b[38;5;28mlist\u001b[39m[Union[\u001b[38;5;28mstr\u001b[39m, \u001b[38;5;28mdict\u001b[39m]]], \u001b[38;5;241m*\u001b[39m\u001b[38;5;241m*\u001b[39mkwargs: Any\n\u001b[1;32m    172\u001b[0m ) \u001b[38;5;241m-\u001b[39m\u001b[38;5;241m>\u001b[39m \u001b[38;5;28;01mNone\u001b[39;00m:\n\u001b[1;32m    173\u001b[0m \u001b[38;5;250m    \u001b[39m\u001b[38;5;124;03m\"\"\"Pass in content as positional arg.\u001b[39;00m\n\u001b[1;32m    174\u001b[0m \n\u001b[1;32m    175\u001b[0m \u001b[38;5;124;03m    Args:\u001b[39;00m\n\u001b[1;32m    176\u001b[0m \u001b[38;5;124;03m        content: The content of the message.\u001b[39;00m\n\u001b[1;32m    177\u001b[0m \u001b[38;5;124;03m        kwargs: Additional arguments to pass to the parent class.\u001b[39;00m\n\u001b[1;32m    178\u001b[0m \u001b[38;5;124;03m    \"\"\"\u001b[39;00m\n\u001b[0;32m--> 179\u001b[0m     \u001b[38;5;28;43msuper\u001b[39;49m\u001b[43m(\u001b[49m\u001b[43m)\u001b[49m\u001b[38;5;241;43m.\u001b[39;49m\u001b[38;5;21;43m__init__\u001b[39;49m\u001b[43m(\u001b[49m\u001b[43mcontent\u001b[49m\u001b[38;5;241;43m=\u001b[39;49m\u001b[43mcontent\u001b[49m\u001b[43m,\u001b[49m\u001b[43m \u001b[49m\u001b[38;5;241;43m*\u001b[39;49m\u001b[38;5;241;43m*\u001b[39;49m\u001b[43mkwargs\u001b[49m\u001b[43m)\u001b[49m\n",
      "File \u001b[0;32m/opt/app-root/lib64/python3.11/site-packages/langchain_core/messages/base.py:76\u001b[0m, in \u001b[0;36mBaseMessage.__init__\u001b[0;34m(self, content, **kwargs)\u001b[0m\n\u001b[1;32m     67\u001b[0m \u001b[38;5;28;01mdef\u001b[39;00m \u001b[38;5;21m__init__\u001b[39m(\n\u001b[1;32m     68\u001b[0m     \u001b[38;5;28mself\u001b[39m, content: Union[\u001b[38;5;28mstr\u001b[39m, \u001b[38;5;28mlist\u001b[39m[Union[\u001b[38;5;28mstr\u001b[39m, \u001b[38;5;28mdict\u001b[39m]]], \u001b[38;5;241m*\u001b[39m\u001b[38;5;241m*\u001b[39mkwargs: Any\n\u001b[1;32m     69\u001b[0m ) \u001b[38;5;241m-\u001b[39m\u001b[38;5;241m>\u001b[39m \u001b[38;5;28;01mNone\u001b[39;00m:\n\u001b[1;32m     70\u001b[0m \u001b[38;5;250m    \u001b[39m\u001b[38;5;124;03m\"\"\"Pass in content as positional arg.\u001b[39;00m\n\u001b[1;32m     71\u001b[0m \n\u001b[1;32m     72\u001b[0m \u001b[38;5;124;03m    Args:\u001b[39;00m\n\u001b[1;32m     73\u001b[0m \u001b[38;5;124;03m        content: The string contents of the message.\u001b[39;00m\n\u001b[1;32m     74\u001b[0m \u001b[38;5;124;03m        kwargs: Additional fields to pass to the\u001b[39;00m\n\u001b[1;32m     75\u001b[0m \u001b[38;5;124;03m    \"\"\"\u001b[39;00m\n\u001b[0;32m---> 76\u001b[0m     \u001b[38;5;28;43msuper\u001b[39;49m\u001b[43m(\u001b[49m\u001b[43m)\u001b[49m\u001b[38;5;241;43m.\u001b[39;49m\u001b[38;5;21;43m__init__\u001b[39;49m\u001b[43m(\u001b[49m\u001b[43mcontent\u001b[49m\u001b[38;5;241;43m=\u001b[39;49m\u001b[43mcontent\u001b[49m\u001b[43m,\u001b[49m\u001b[43m \u001b[49m\u001b[38;5;241;43m*\u001b[39;49m\u001b[38;5;241;43m*\u001b[39;49m\u001b[43mkwargs\u001b[49m\u001b[43m)\u001b[49m\n",
      "File \u001b[0;32m/opt/app-root/lib64/python3.11/site-packages/langchain_core/load/serializable.py:125\u001b[0m, in \u001b[0;36mSerializable.__init__\u001b[0;34m(self, *args, **kwargs)\u001b[0m\n\u001b[1;32m    123\u001b[0m \u001b[38;5;28;01mdef\u001b[39;00m \u001b[38;5;21m__init__\u001b[39m(\u001b[38;5;28mself\u001b[39m, \u001b[38;5;241m*\u001b[39margs: Any, \u001b[38;5;241m*\u001b[39m\u001b[38;5;241m*\u001b[39mkwargs: Any) \u001b[38;5;241m-\u001b[39m\u001b[38;5;241m>\u001b[39m \u001b[38;5;28;01mNone\u001b[39;00m:\n\u001b[1;32m    124\u001b[0m \u001b[38;5;250m    \u001b[39m\u001b[38;5;124;03m\"\"\"\"\"\"\u001b[39;00m\n\u001b[0;32m--> 125\u001b[0m     \u001b[38;5;28;43msuper\u001b[39;49m\u001b[43m(\u001b[49m\u001b[43m)\u001b[49m\u001b[38;5;241;43m.\u001b[39;49m\u001b[38;5;21;43m__init__\u001b[39;49m\u001b[43m(\u001b[49m\u001b[38;5;241;43m*\u001b[39;49m\u001b[43margs\u001b[49m\u001b[43m,\u001b[49m\u001b[43m \u001b[49m\u001b[38;5;241;43m*\u001b[39;49m\u001b[38;5;241;43m*\u001b[39;49m\u001b[43mkwargs\u001b[49m\u001b[43m)\u001b[49m\n",
      "File \u001b[0;32m/opt/app-root/lib64/python3.11/site-packages/pydantic/main.py:214\u001b[0m, in \u001b[0;36mBaseModel.__init__\u001b[0;34m(self, **data)\u001b[0m\n\u001b[1;32m    212\u001b[0m \u001b[38;5;66;03m# `__tracebackhide__` tells pytest and some other tools to omit this function from tracebacks\u001b[39;00m\n\u001b[1;32m    213\u001b[0m __tracebackhide__ \u001b[38;5;241m=\u001b[39m \u001b[38;5;28;01mTrue\u001b[39;00m\n\u001b[0;32m--> 214\u001b[0m validated_self \u001b[38;5;241m=\u001b[39m \u001b[38;5;28;43mself\u001b[39;49m\u001b[38;5;241;43m.\u001b[39;49m\u001b[43m__pydantic_validator__\u001b[49m\u001b[38;5;241;43m.\u001b[39;49m\u001b[43mvalidate_python\u001b[49m\u001b[43m(\u001b[49m\u001b[43mdata\u001b[49m\u001b[43m,\u001b[49m\u001b[43m \u001b[49m\u001b[43mself_instance\u001b[49m\u001b[38;5;241;43m=\u001b[39;49m\u001b[38;5;28;43mself\u001b[39;49m\u001b[43m)\u001b[49m\n\u001b[1;32m    215\u001b[0m \u001b[38;5;28;01mif\u001b[39;00m \u001b[38;5;28mself\u001b[39m \u001b[38;5;129;01mis\u001b[39;00m \u001b[38;5;129;01mnot\u001b[39;00m validated_self:\n\u001b[1;32m    216\u001b[0m     warnings\u001b[38;5;241m.\u001b[39mwarn(\n\u001b[1;32m    217\u001b[0m         \u001b[38;5;124m'\u001b[39m\u001b[38;5;124mA custom validator is returning a value other than `self`.\u001b[39m\u001b[38;5;130;01m\\n\u001b[39;00m\u001b[38;5;124m'\u001b[39m\n\u001b[1;32m    218\u001b[0m         \u001b[38;5;124m\"\u001b[39m\u001b[38;5;124mReturning anything other than `self` from a top level model validator isn\u001b[39m\u001b[38;5;124m'\u001b[39m\u001b[38;5;124mt supported when validating via `__init__`.\u001b[39m\u001b[38;5;130;01m\\n\u001b[39;00m\u001b[38;5;124m\"\u001b[39m\n\u001b[1;32m    219\u001b[0m         \u001b[38;5;124m'\u001b[39m\u001b[38;5;124mSee the `model_validator` docs (https://docs.pydantic.dev/latest/concepts/validators/#model-validators) for more details.\u001b[39m\u001b[38;5;124m'\u001b[39m,\n\u001b[1;32m    220\u001b[0m         stacklevel\u001b[38;5;241m=\u001b[39m\u001b[38;5;241m2\u001b[39m,\n\u001b[1;32m    221\u001b[0m     )\n",
      "\u001b[0;31mValidationError\u001b[0m: 21 validation errors for AIMessage\ncontent.str\n  Input should be a valid string [type=string_type, input_value=AIMessage(content=\"When p...ee-9ae8-d4ae13c57fb3-0'), input_type=AIMessage]\n    For further information visit https://errors.pydantic.dev/2.10/v/string_type\ncontent.list[union[str,dict[any,any]]].0.str\n  Input should be a valid string [type=string_type, input_value=('content', \"When plannin...ns before setting out.\"), input_type=tuple]\n    For further information visit https://errors.pydantic.dev/2.10/v/string_type\ncontent.list[union[str,dict[any,any]]].0.dict[any,any]\n  Input should be a valid dictionary [type=dict_type, input_value=('content', \"When plannin...ns before setting out.\"), input_type=tuple]\n    For further information visit https://errors.pydantic.dev/2.10/v/dict_type\ncontent.list[union[str,dict[any,any]]].1.str\n  Input should be a valid string [type=string_type, input_value=('additional_kwargs', {}), input_type=tuple]\n    For further information visit https://errors.pydantic.dev/2.10/v/string_type\ncontent.list[union[str,dict[any,any]]].1.dict[any,any]\n  Input should be a valid dictionary [type=dict_type, input_value=('additional_kwargs', {}), input_type=tuple]\n    For further information visit https://errors.pydantic.dev/2.10/v/dict_type\ncontent.list[union[str,dict[any,any]]].2.str\n  Input should be a valid string [type=string_type, input_value=('response_metadata', {'f... 'model_name': 'gpt-4'}), input_type=tuple]\n    For further information visit https://errors.pydantic.dev/2.10/v/string_type\ncontent.list[union[str,dict[any,any]]].2.dict[any,any]\n  Input should be a valid dictionary [type=dict_type, input_value=('response_metadata', {'f... 'model_name': 'gpt-4'}), input_type=tuple]\n    For further information visit https://errors.pydantic.dev/2.10/v/dict_type\ncontent.list[union[str,dict[any,any]]].3.str\n  Input should be a valid string [type=string_type, input_value=('type', 'ai'), input_type=tuple]\n    For further information visit https://errors.pydantic.dev/2.10/v/string_type\ncontent.list[union[str,dict[any,any]]].3.dict[any,any]\n  Input should be a valid dictionary [type=dict_type, input_value=('type', 'ai'), input_type=tuple]\n    For further information visit https://errors.pydantic.dev/2.10/v/dict_type\ncontent.list[union[str,dict[any,any]]].4.str\n  Input should be a valid string [type=string_type, input_value=('name', None), input_type=tuple]\n    For further information visit https://errors.pydantic.dev/2.10/v/string_type\ncontent.list[union[str,dict[any,any]]].4.dict[any,any]\n  Input should be a valid dictionary [type=dict_type, input_value=('name', None), input_type=tuple]\n    For further information visit https://errors.pydantic.dev/2.10/v/dict_type\ncontent.list[union[str,dict[any,any]]].5.str\n  Input should be a valid string [type=string_type, input_value=('id', 'run-5b14eeef-f643...ee-9ae8-d4ae13c57fb3-0'), input_type=tuple]\n    For further information visit https://errors.pydantic.dev/2.10/v/string_type\ncontent.list[union[str,dict[any,any]]].5.dict[any,any]\n  Input should be a valid dictionary [type=dict_type, input_value=('id', 'run-5b14eeef-f643...ee-9ae8-d4ae13c57fb3-0'), input_type=tuple]\n    For further information visit https://errors.pydantic.dev/2.10/v/dict_type\ncontent.list[union[str,dict[any,any]]].6.str\n  Input should be a valid string [type=string_type, input_value=('example', False), input_type=tuple]\n    For further information visit https://errors.pydantic.dev/2.10/v/string_type\ncontent.list[union[str,dict[any,any]]].6.dict[any,any]\n  Input should be a valid dictionary [type=dict_type, input_value=('example', False), input_type=tuple]\n    For further information visit https://errors.pydantic.dev/2.10/v/dict_type\ncontent.list[union[str,dict[any,any]]].7.str\n  Input should be a valid string [type=string_type, input_value=('tool_calls', []), input_type=tuple]\n    For further information visit https://errors.pydantic.dev/2.10/v/string_type\ncontent.list[union[str,dict[any,any]]].7.dict[any,any]\n  Input should be a valid dictionary [type=dict_type, input_value=('tool_calls', []), input_type=tuple]\n    For further information visit https://errors.pydantic.dev/2.10/v/dict_type\ncontent.list[union[str,dict[any,any]]].8.str\n  Input should be a valid string [type=string_type, input_value=('invalid_tool_calls', []), input_type=tuple]\n    For further information visit https://errors.pydantic.dev/2.10/v/string_type\ncontent.list[union[str,dict[any,any]]].8.dict[any,any]\n  Input should be a valid dictionary [type=dict_type, input_value=('invalid_tool_calls', []), input_type=tuple]\n    For further information visit https://errors.pydantic.dev/2.10/v/dict_type\ncontent.list[union[str,dict[any,any]]].9.str\n  Input should be a valid string [type=string_type, input_value=('usage_metadata', None), input_type=tuple]\n    For further information visit https://errors.pydantic.dev/2.10/v/string_type\ncontent.list[union[str,dict[any,any]]].9.dict[any,any]\n  Input should be a valid dictionary [type=dict_type, input_value=('usage_metadata', None), input_type=tuple]\n    For further information visit https://errors.pydantic.dev/2.10/v/dict_type",
      "\u001b[0mDuring task with name 'agent' and id 'd9cdf236-a399-d91d-183d-7b32cf607dac'"
     ]
    }
   ],
   "source": [
    "# Initialize tools_used_log before invoking the workflow\n",
    "tools_used_log = []  # Reset the log to ensure it's fresh for each session\n",
    "\n",
    "# Invoke the workflow with an example input\n",
    "input_prompt = \"What gear should I bring to hike mountains like Dolomites?\"\n",
    "\n",
    "final_state = app.invoke(\n",
    "    {\"messages\": [HumanMessage(content=input_prompt)]},\n",
    "    config={\"configurable\": {\"thread_id\": 42}}\n",
    ")\n",
    "\n",
    "# Output the last response\n",
    "print(final_state[\"messages\"][-1].content)\n",
    "\n",
    "# Inspect which tools were used during this session\n",
    "if not tools_used_log:\n",
    "    print(\"No tools were used.\")\n",
    "else:\n",
    "    for tool_name in tools_used_log:\n",
    "        print(f\"Tool used: {tool_name}\")"
   ]
  },
  {
   "cell_type": "code",
   "execution_count": null,
   "id": "2229369f-0d1f-40e8-b36b-f5741e523dbe",
   "metadata": {
    "tags": []
   },
   "outputs": [],
   "source": [
    "# Initialize tools_used_log before invoking the workflow\n",
    "tools_used_log = []  # Reset the log to ensure it's fresh for each session\n",
    "\n",
    "# Invoke the workflow with an example input\n",
    "input_prompt = \"What is Agentic AI?\"\n",
    "\n",
    "final_state = app.invoke(\n",
    "    {\"messages\": [HumanMessage(content=input_prompt)]},\n",
    "    config={\"configurable\": {\"thread_id\": 42}}\n",
    ")\n",
    "\n",
    "# Output the last response\n",
    "print(final_state[\"messages\"][-1].content)\n",
    "\n",
    "# Inspect which tools were used during this session\n",
    "if not tools_used_log:\n",
    "    print(\"No tools were used.\")\n",
    "else:\n",
    "    for tool_name in tools_used_log:\n",
    "        print(f\"Tool used: {tool_name}\")"
   ]
  }
 ],
 "metadata": {
  "kernelspec": {
   "display_name": "Python 3.11",
   "language": "python",
   "name": "python3"
  },
  "language_info": {
   "codemirror_mode": {
    "name": "ipython",
    "version": 3
   },
   "file_extension": ".py",
   "mimetype": "text/x-python",
   "name": "python",
   "nbconvert_exporter": "python",
   "pygments_lexer": "ipython3",
   "version": "3.11.7"
  }
 },
 "nbformat": 4,
 "nbformat_minor": 5
}
