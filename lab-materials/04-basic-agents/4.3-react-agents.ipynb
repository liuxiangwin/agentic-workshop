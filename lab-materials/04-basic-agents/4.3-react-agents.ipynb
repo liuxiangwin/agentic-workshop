{
 "cells": [
  {
   "cell_type": "markdown",
   "id": "766aaa81-96e6-42dc-b29d-8216d2a7feec",
   "metadata": {},
   "source": [
    "## 5.1 ReAct Agents (Prebuilt Agents)"
   ]
  },
  {
   "cell_type": "code",
   "execution_count": 1,
   "id": "a16ed2e6",
   "metadata": {
    "tags": []
   },
   "outputs": [
    {
     "name": "stdout",
     "output_type": "stream",
     "text": [
      "\u001b[31mERROR: pip's dependency resolver does not currently take into account all the packages that are installed. This behaviour is the source of the following dependency conflicts.\n",
      "kfp 2.9.0 requires requests-toolbelt<1,>=0.8.0, but you have requests-toolbelt 1.0.0 which is incompatible.\u001b[0m\u001b[31m\n",
      "\u001b[0m"
     ]
    }
   ],
   "source": [
    "# !pip install -q langchain-openai termcolor langchain_community duckduckgo_search wikipedia openapi-python-client==0.12.3 langgraph langchain_experimental yfinance\n",
    "!pip install -q langchain-openai termcolor langchain_community duckduckgo_search wikipedia openapi-python-client langgraph langchain_experimental openai --quiet"
   ]
  },
  {
   "cell_type": "markdown",
   "id": "0022f3fb-ee50-40f2-b276-b8194668e49e",
   "metadata": {},
   "source": [
    "## 1. Setup"
   ]
  },
  {
   "cell_type": "code",
   "execution_count": 2,
   "id": "60bb3f0f-40b5-49a6-b493-5e361db0113e",
   "metadata": {
    "tags": []
   },
   "outputs": [],
   "source": [
    "# Imports\n",
    "import os\n",
    "import json\n",
    "from langchain.chains import ConversationChain\n",
    "from langchain.memory import ConversationBufferMemory\n",
    "from langchain.chains import LLMChain\n",
    "#from langchain_community.llms import VLLMOpenAI\n",
    "from langchain_openai import ChatOpenAI\n",
    "from langchain.callbacks.streaming_stdout import StreamingStdOutCallbackHandler\n",
    "from langchain.prompts import PromptTemplate\n",
    "from langchain_core.messages import BaseMessage\n",
    "from typing_extensions import TypedDict\n",
    "\n",
    "from langgraph.graph import StateGraph, START, END\n",
    "from langgraph.graph.message import add_messages\n",
    "from langgraph.prebuilt import ToolNode, tools_condition"
   ]
  },
  {
   "cell_type": "markdown",
   "id": "484b7c62-ea7d-4fd3-adcf-847beee5c0fb",
   "metadata": {},
   "source": [
    "## 3. Model Configuration"
   ]
  },
  {
   "cell_type": "markdown",
   "id": "d94bf848-656e-49ee-bc1e-7c4d2474678d",
   "metadata": {},
   "source": [
    "#### Define the Inference Model Server specifics"
   ]
  },
  {
   "cell_type": "code",
   "execution_count": 3,
   "id": "7b908fd0-01dd-4ad2-b745-b3a4c56a7a7e",
   "metadata": {
    "tags": []
   },
   "outputs": [],
   "source": [
    "# INFERENCE_SERVER_URL = os.getenv('API_URL')\n",
    "# MODEL_NAME = \"mistral-7b-instruct\"\n",
    "# API_KEY= os.getenv('API_KEY')\n",
    "\n",
    "\n",
    "INFERENCE_SERVER_URL = \"http://localhost:8000\"\n",
    "MODEL_NAME = \"ibm-granite/granite-3.0-8b-instruct\"\n",
    "API_KEY= \"alanliuxiang\"\n",
    "\n",
    "\n",
    "# INFERENCE_SERVER_URL = \"https://api.feidaapi.com\"\n",
    "# MODEL_NAME = \"gpt-4o\"\n",
    "# API_KEY= \"sk-TsoMJYTiW1Ya1AatboGdUGXEdCOAWeCeIbvUCkNMonrCHoQ7\""
   ]
  },
  {
   "cell_type": "markdown",
   "id": "472b2f3f-ac23-4531-984b-6e8357233992",
   "metadata": {},
   "source": [
    "#### Create the LLM instance"
   ]
  },
  {
   "cell_type": "code",
   "execution_count": 4,
   "id": "01baa2b8-529d-455d-ad39-ef4a96dbaf97",
   "metadata": {
    "tags": []
   },
   "outputs": [],
   "source": [
    "llm = ChatOpenAI(\n",
    "    openai_api_key=API_KEY,\n",
    "    openai_api_base= f\"{INFERENCE_SERVER_URL}/v1\",\n",
    "    model_name=MODEL_NAME,\n",
    "    top_p=0.92,\n",
    "    temperature=0.01,\n",
    "    max_tokens=512,\n",
    "    presence_penalty=1.03,\n",
    "    streaming=True,\n",
    "    callbacks=[StreamingStdOutCallbackHandler()]\n",
    ")"
   ]
  },
  {
   "cell_type": "code",
   "execution_count": 5,
   "id": "61f8bd4d-9e6d-40ba-aaec-2441da40683c",
   "metadata": {
    "tags": []
   },
   "outputs": [],
   "source": [
    "from typing import Annotated\n",
    "\n",
    "from typing_extensions import TypedDict\n",
    "\n",
    "from langgraph.graph import StateGraph, START, END\n",
    "from langgraph.graph.message import add_messages\n",
    "from langchain_core.tools import tool\n",
    "from langchain_experimental.utilities import PythonREPL\n",
    "import getpass\n",
    "import os\n",
    "\n",
    "\n",
    "def _set_env(var: str):\n",
    "    if not os.environ.get(var):\n",
    "        os.environ[var] = getpass.getpass(f\"{var}: \")"
   ]
  },
  {
   "cell_type": "markdown",
   "id": "70132439-184c-46bc-b3aa-098bd5310c1e",
   "metadata": {
    "tags": []
   },
   "source": [
    "## Define tools"
   ]
  },
  {
   "cell_type": "markdown",
   "id": "6ffca944-5ef0-430a-9abf-6fe93007e091",
   "metadata": {},
   "source": [
    "Sometimes, for complex calculations, rather than have an LLM generate the answer directly, it can be better to have the LLM generate code to calculate the answer, and then run that code to get the answer. In order to easily do that, we provide a simple Python REPL to execute commands in."
   ]
  },
  {
   "cell_type": "code",
   "execution_count": 6,
   "id": "192a9964-44cb-4095-8c4b-bb7e36753b07",
   "metadata": {
    "tags": []
   },
   "outputs": [],
   "source": [
    "repl = PythonREPL()\n",
    "\n",
    "\n",
    "@tool\n",
    "def python_repl(\n",
    "    code: Annotated[str, \"The python code to execute to generate your calculations.\"],\n",
    "):\n",
    "    \"\"\"Use this to execute python code. \n",
    "    Execute the code if it's necessary, but give the final result calculated. \n",
    "    Don't show the code\n",
    "    If it's needed, search first online\n",
    "    Your result if calculate is not give the code, is to provide the final result\n",
    "    \"\"\"\n",
    "    try:\n",
    "        result = repl.run(code)\n",
    "    except BaseException as e:\n",
    "        return f\"Failed to execute. Error: {repr(e)}\"\n",
    "    result_str = f\"Successfully executed:\\n\\`\\`\\`python\\n{code}\\n\\`\\`\\`\\nStdout: {result}\"\n",
    "    return (\n",
    "        result_str + \"\\n\\nIf you have completed all tasks, respond with FINAL ANSWER.\"\n",
    "    )\n",
    "\n",
    "from langchain_community.tools import DuckDuckGoSearchRun\n",
    "\n",
    "# Initialize DuckDuckGo Search Tool\n",
    "duckduckgo_search = DuckDuckGoSearchRun()"
   ]
  },
  {
   "cell_type": "code",
   "execution_count": 7,
   "id": "81154c2a-abe2-42cd-88f7-9777007895ae",
   "metadata": {
    "tags": []
   },
   "outputs": [],
   "source": [
    "from langgraph.prebuilt import ToolNode\n",
    "\n",
    "tools = [duckduckgo_search, \n",
    "         python_repl]"
   ]
  },
  {
   "cell_type": "code",
   "execution_count": 8,
   "id": "19f30dac-6b3f-4731-8640-47dca14aeb11",
   "metadata": {
    "tags": []
   },
   "outputs": [],
   "source": [
    "llm_with_tools = llm.bind_tools(tools)\n"
   ]
  },
  {
   "cell_type": "markdown",
   "id": "e45b4553-ec99-4e9b-ab49-0836bc7b186a",
   "metadata": {
    "tags": []
   },
   "source": [
    "## Create graph"
   ]
  },
  {
   "cell_type": "code",
   "execution_count": 9,
   "id": "64d96fe7-b74d-4e93-af91-5ba2c5242fc7",
   "metadata": {
    "tags": []
   },
   "outputs": [],
   "source": [
    "from langchain_core.messages import (\n",
    "    BaseMessage,\n",
    "    HumanMessage,\n",
    "    ToolMessage,\n",
    ")\n",
    "from langchain_core.prompts import ChatPromptTemplate, MessagesPlaceholder\n",
    "\n",
    "from langgraph.graph import END, StateGraph, START\n",
    "\n",
    "class State(TypedDict):\n",
    "    messages: Annotated[list, add_messages]\n",
    "\n",
    "graph_builder = StateGraph(State)"
   ]
  },
  {
   "cell_type": "markdown",
   "id": "9c0939f8-7149-492b-8a36-fc09b838c54a",
   "metadata": {
    "tags": []
   },
   "source": [
    "### Define Edge Logic"
   ]
  },
  {
   "cell_type": "code",
   "execution_count": 10,
   "id": "e08b4c68-11b2-4407-8732-3093fbe4cf32",
   "metadata": {
    "tags": []
   },
   "outputs": [],
   "source": [
    "def chatbot(state: State):\n",
    "    return {\"messages\": [llm_with_tools.invoke(state[\"messages\"])]}"
   ]
  },
  {
   "cell_type": "code",
   "execution_count": 11,
   "id": "1128d826-bb1c-474c-b803-4f8ee93bf5ea",
   "metadata": {
    "tags": []
   },
   "outputs": [
    {
     "data": {
      "text/plain": [
       "<langgraph.graph.state.StateGraph at 0x7f8ce718e690>"
      ]
     },
     "execution_count": 11,
     "metadata": {},
     "output_type": "execute_result"
    }
   ],
   "source": [
    "graph_builder.add_node(\"chatbot\", chatbot)\n",
    "\n",
    "tool_node = ToolNode(tools)\n",
    "graph_builder.add_node(\"tools\", tool_node)"
   ]
  },
  {
   "cell_type": "markdown",
   "id": "d65cc159-a794-4304-922d-b46ac393266d",
   "metadata": {},
   "source": [
    "### Define Tool Node"
   ]
  },
  {
   "cell_type": "code",
   "execution_count": 12,
   "id": "6d8d03d3-cbe3-42ac-8a90-3ef612d57c41",
   "metadata": {
    "tags": []
   },
   "outputs": [
    {
     "data": {
      "text/plain": [
       "<langgraph.graph.state.StateGraph at 0x7f8ce718e690>"
      ]
     },
     "execution_count": 12,
     "metadata": {},
     "output_type": "execute_result"
    }
   ],
   "source": [
    "graph_builder.add_conditional_edges(\n",
    "    \"chatbot\",\n",
    "    tools_condition,\n",
    ")\n",
    "# Any time a tool is called, we return to the chatbot to decide the next step\n",
    "graph_builder.add_edge(\"tools\", \"chatbot\")\n",
    "graph_builder.add_edge(START, \"chatbot\")"
   ]
  },
  {
   "cell_type": "code",
   "execution_count": 13,
   "id": "f3ae4e2f-789e-43c0-93a7-30e4e74d4fc9",
   "metadata": {
    "tags": []
   },
   "outputs": [],
   "source": [
    "from langgraph.checkpoint.memory import MemorySaver\n",
    "\n",
    "memory = MemorySaver()"
   ]
  },
  {
   "cell_type": "code",
   "execution_count": 14,
   "id": "7dfc547b-142e-42f1-9bfc-d4a5b5a6d96d",
   "metadata": {
    "tags": []
   },
   "outputs": [],
   "source": [
    "graph = graph_builder.compile(checkpointer=memory)\n"
   ]
  },
  {
   "cell_type": "code",
   "execution_count": 15,
   "id": "3d4f4155-3efb-45e7-9bdc-9adfb7726ac5",
   "metadata": {
    "tags": []
   },
   "outputs": [
    {
     "data": {
      "image/png": "[encoded data removed]",
      "text/plain": [
       "<IPython.core.display.Image object>"
      ]
     },
     "metadata": {},
     "output_type": "display_data"
    }
   ],
   "source": [
    "from IPython.display import Image, display\n",
    "\n",
    "try:\n",
    "    display(Image(graph.get_graph().draw_mermaid_png()))\n",
    "except Exception:\n",
    "    # This requires some extra dependencies and is optional\n",
    "    pass"
   ]
  },
  {
   "cell_type": "code",
   "execution_count": 16,
   "id": "dfbd1dc6-8d9e-4b89-bcfe-f2e465af3f67",
   "metadata": {
    "tags": []
   },
   "outputs": [],
   "source": [
    "config = {\"configurable\": {\"thread_id\": \"1\"}}"
   ]
  },
  {
   "cell_type": "code",
   "execution_count": 17,
   "id": "972ff209-c6a0-423e-bf37-7b6efde9c11e",
   "metadata": {
    "tags": []
   },
   "outputs": [
    {
     "name": "stdout",
     "output_type": "stream",
     "text": [
      "================================\u001b[1m Human Message \u001b[0m=================================\n",
      "\n",
      "Search which are the top FSI in the S&P 500 in 2024.\n",
      "==================================\u001b[1m Ai Message \u001b[0m==================================\n",
      "Tool Calls:\n",
      "  duckduckgo_search (call_hY0ucaRssOxe56av1HDqlT4R)\n",
      " Call ID: call_hY0ucaRssOxe56av1HDqlT4R\n",
      "  Args:\n",
      "    query: top FSI in the S&P 500 in 2024\n",
      "=================================\u001b[1m Tool Message \u001b[0m=================================\n",
      "Name: duckduckgo_search\n",
      "\n",
      "The two most interesting stocks among top-performing S&P 500 shares. Vistra also benefited from the boom in AI applications, as data center companies signed deals to procure nuclear energy. They ... Last year, it was the top performer on the S&P 500, returning 239% for the year. In fact, since 2020, it has had triple-digit returns every year except 2022, when it fell 50% during the bear market. As the top-performing S&P 500 sector, communication services surged in 2024, driven by heavyweights Meta and Google, which saw 70% and 37% returns, respectively. Digital advertising revenues, which make up the vast majority of each company's total revenues, fueled returns thanks to strong consumer spending. The S&P 500 index is up 25% year to date, and it's no surprise to see several of the biggest gainers in 2024 were companies benefiting from the growth in artificial intelligence (AI). Here are the ... Big Data firm Palantir was the best performing large-company U.S. stock of 2024, returning 340.5% on the year.\n",
      "In 2024, some of the top-performing stocks in the S&P 500 include:\n",
      "\n",
      "1. **Palantir** - The best performing large-company U.S. stock with a return of 340.5% for the year.\n",
      "2. **Meta (Facebook)** - Achieved a 70% return, driven by digital advertising revenues.\n",
      "3. **Google (Alphabet)** - Saw a 37% return, also fueled by digital advertising revenues.\n",
      "\n",
      "The communication services sector was the top-performing sector, largely due to the strong performance of Meta and Google. Additionally, companies benefiting from the growth in artificial intelligence (AI) were among the biggest gainers.==================================\u001b[1m Ai Message \u001b[0m==================================\n",
      "\n",
      "In 2024, some of the top-performing stocks in the S&P 500 include:\n",
      "\n",
      "1. **Palantir** - The best performing large-company U.S. stock with a return of 340.5% for the year.\n",
      "2. **Meta (Facebook)** - Achieved a 70% return, driven by digital advertising revenues.\n",
      "3. **Google (Alphabet)** - Saw a 37% return, also fueled by digital advertising revenues.\n",
      "\n",
      "The communication services sector was the top-performing sector, largely due to the strong performance of Meta and Google. Additionally, companies benefiting from the growth in artificial intelligence (AI) were among the biggest gainers.\n"
     ]
    }
   ],
   "source": [
    "\n",
    "user_input = \"\"\"Search which are the top FSI in the S&P 500 in 2024.\"\"\"\n",
    "             \n",
    "# Start streaming the conversation\n",
    "events = graph.stream(\n",
    "    {\"messages\": [(\"user\", user_input)]}, config, stream_mode=\"values\"\n",
    ")\n",
    "\n",
    "# Track printed messages to avoid duplicates\n",
    "printed_messages = set()\n",
    "\n",
    "# Process each event and print only unique messages\n",
    "for event in events:\n",
    "    latest_message = event[\"messages\"][-1]\n",
    "    \n",
    "    # Only print if message content is new\n",
    "    if latest_message.content not in printed_messages:\n",
    "        printed_messages.add(latest_message.content)\n",
    "        latest_message.pretty_print()"
   ]
  },
  {
   "cell_type": "code",
   "execution_count": 18,
   "id": "58ac26e1-7776-4808-baec-a677d8547a42",
   "metadata": {
    "tags": []
   },
   "outputs": [
    {
     "name": "stdout",
     "output_type": "stream",
     "text": [
      "================================\u001b[1m Human Message \u001b[0m=================================\n",
      "\n",
      "Which market cap have the top FSI, search for the results in 2024\n",
      "==================================\u001b[1m Ai Message \u001b[0m==================================\n",
      "Tool Calls:\n",
      "  duckduckgo_search (call_fVAb541k4gAohCbgZBtpMqyx)\n",
      " Call ID: call_fVAb541k4gAohCbgZBtpMqyx\n",
      "  Args:\n",
      "    query: Palantir market cap 2024\n",
      "  duckduckgo_search (call_VTq37vKRkp9KQJcPkikSZR7F)\n",
      " Call ID: call_VTq37vKRkp9KQJcPkikSZR7F\n",
      "  Args:\n",
      "    query: Meta market cap 2024\n",
      "  duckduckgo_search (call_0z2z9a781Lfxr6aZUEBQIOMz)\n",
      " Call ID: call_0z2z9a781Lfxr6aZUEBQIOMz\n",
      "  Args:\n",
      "    query: Google market cap 2024\n",
      "=================================\u001b[1m Tool Message \u001b[0m=================================\n",
      "Name: duckduckgo_search\n",
      "\n",
      "Market Cap Chart Since August 19, 2004, Alphabet's market cap has increased from $27.24B to $2.42T, an increase of 8,799.47%. That is a compound annual growth rate of 24.56%. Alphabet has a market cap or net worth of $2.42 trillion. The enterprise value is $2.36 trillion. ... Ex-Dividend Date : Dec 9, 2024: Share Statistics. Alphabet has 12.24 billion shares outstanding. The number of shares has decreased by -2.32% in one year. ... so Alphabet's price volatility has been similar to the market average. Beta (5Y) 0.98 ... Market Cap Chart Since January 27, 2020, Alphabet's market cap has increased from $982.88B to $2.46T, an increase of 150.30%. That is a compound annual growth rate of 20.15%. Alphabet reported its 2024 third-quarter earnings on Tuesday, October 29, with EPS of $2.12, $0.28 better than the analyst estimate of $1.84. ... Alphabet (Google) Market Cap History from 2014 to ... What is Alphabet(Google) Market Cap? Market cap is the total market value to buy the whole company. It is equal to the share price times the number of Shares Outstanding (EOP). Alphabet(Google)'s share price for the quarter that ended in Sep. 2024 was $167.19. Alphabet(Google)'s Shares Outstanding (EOP) for the quarter that ended in Sep. 2024 was 12,264 Mil.\n",
      "As of 2024, the market capitalizations for the top FSI in the S&P 500 are as follows:\n",
      "\n",
      "1. **Palantir**: Approximately $174 billion.\n",
      "2. **Meta (Facebook)**: Around $1.4 trillion.\n",
      "3. **Google (Alphabet)**: About $2.42 trillion.==================================\u001b[1m Ai Message \u001b[0m==================================\n",
      "\n",
      "As of 2024, the market capitalizations for the top FSI in the S&P 500 are as follows:\n",
      "\n",
      "1. **Palantir**: Approximately $174 billion.\n",
      "2. **Meta (Facebook)**: Around $1.4 trillion.\n",
      "3. **Google (Alphabet)**: About $2.42 trillion.\n"
     ]
    }
   ],
   "source": [
    "user_input = \"Which market cap have the top FSI, search for the results in 2024\"\n",
    "             \n",
    "# Start streaming the conversation\n",
    "events = graph.stream(\n",
    "    {\"messages\": [(\"user\", user_input)]}, config, stream_mode=\"values\"\n",
    ")\n",
    "\n",
    "# Track printed messages to avoid duplicates\n",
    "printed_messages = set()\n",
    "\n",
    "# Process each event and print only unique messages\n",
    "for event in events:\n",
    "    latest_message = event[\"messages\"][-1]\n",
    "    \n",
    "    # Only print if message content is new\n",
    "    if latest_message.content not in printed_messages:\n",
    "        printed_messages.add(latest_message.content)\n",
    "        latest_message.pretty_print()"
   ]
  },
  {
   "cell_type": "code",
   "execution_count": 19,
   "id": "8eb97935-7016-4847-b47f-b5aede9c6b82",
   "metadata": {
    "tags": []
   },
   "outputs": [
    {
     "name": "stdout",
     "output_type": "stream",
     "text": [
      "================================\u001b[1m Human Message \u001b[0m=================================\n",
      "\n",
      "Calculate the average market cap of these FSI?\n",
      "==================================\u001b[1m Ai Message \u001b[0m==================================\n",
      "Tool Calls:\n",
      "  python_repl (call_JcmTxApfcv2G7lFgbdbUZIH9)\n",
      " Call ID: call_JcmTxApfcv2G7lFgbdbUZIH9\n",
      "  Args:\n",
      "    code: palantir_market_cap = 174\n",
      "meta_market_cap = 1400\n",
      "google_market_cap = 2420\n",
      "\n",
      "average_market_cap = (palantir_market_cap + meta_market_cap + google_market_cap) / 3\n",
      "average_market_cap\n"
     ]
    },
    {
     "name": "stderr",
     "output_type": "stream",
     "text": [
      "Python REPL can execute arbitrary code. Use with caution.\n"
     ]
    },
    {
     "name": "stdout",
     "output_type": "stream",
     "text": [
      "=================================\u001b[1m Tool Message \u001b[0m=================================\n",
      "Name: python_repl\n",
      "\n",
      "Successfully executed:\n",
      "\\`\\`\\`python\n",
      "palantir_market_cap = 174\n",
      "meta_market_cap = 1400\n",
      "google_market_cap = 2420\n",
      "\n",
      "average_market_cap = (palantir_market_cap + meta_market_cap + google_market_cap) / 3\n",
      "average_market_cap\n",
      "\\`\\`\\`\n",
      "Stdout: \n",
      "\n",
      "If you have completed all tasks, respond with FINAL ANSWER.\n",
      "The average market cap of Palantir, Meta, and Google in 2024 is approximately $1,331.33 billion.==================================\u001b[1m Ai Message \u001b[0m==================================\n",
      "\n",
      "The average market cap of Palantir, Meta, and Google in 2024 is approximately $1,331.33 billion.\n"
     ]
    }
   ],
   "source": [
    "user_input = \"Calculate the average market cap of these FSI?\"\n",
    "             \n",
    "# Start streaming the conversation\n",
    "events = graph.stream(\n",
    "    {\"messages\": [(\"user\", user_input)]}, config, stream_mode=\"values\"\n",
    ")\n",
    "\n",
    "# Track printed messages to avoid duplicates\n",
    "printed_messages = set()\n",
    "\n",
    "# Process each event and print only unique messages\n",
    "for event in events:\n",
    "    latest_message = event[\"messages\"][-1]\n",
    "    \n",
    "    # Only print if message content is new\n",
    "    if latest_message.content not in printed_messages:\n",
    "        printed_messages.add(latest_message.content)\n",
    "        latest_message.pretty_print()"
   ]
  }
 ],
 "metadata": {
  "kernelspec": {
   "display_name": "Python 3.11",
   "language": "python",
   "name": "python3"
  },
  "language_info": {
   "codemirror_mode": {
    "name": "ipython",
    "version": 3
   },
   "file_extension": ".py",
   "mimetype": "text/x-python",
   "name": "python",
   "nbconvert_exporter": "python",
   "pygments_lexer": "ipython3",
   "version": "3.11.7"
  }
 },
 "nbformat": 4,
 "nbformat_minor": 5
}
