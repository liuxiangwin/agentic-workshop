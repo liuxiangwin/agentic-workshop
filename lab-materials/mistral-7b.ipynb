{
 "cells": [
  {
   "cell_type": "code",
   "execution_count": null,
   "id": "711467ab-4bda-4576-8bac-ed570ca5fa53",
   "metadata": {},
   "outputs": [],
   "source": [
    "!pip install vllm huggingface_hub --quiet"
   ]
  },
  {
   "cell_type": "code",
   "execution_count": null,
   "id": "2ca56ffb-e012-4fea-b90b-1c6e9c92d81d",
   "metadata": {},
   "outputs": [],
   "source": [
    "!CUDA_VISIBLE_DEVICES=3,4 vllm serve \"mistralai/Mistral-7B-Instruct-v0.3\" \\\n",
    "    --port 8080 \\\n",
    "    --api-key alanliuxiang \\\n",
    "    --enable-auto-tool-choice \\\n",
    "    --tool-call-parser granite "
   ]
  }
 ],
 "metadata": {
  "kernelspec": {
   "display_name": "Python 3.11",
   "language": "python",
   "name": "python3"
  },
  "language_info": {
   "codemirror_mode": {
    "name": "ipython",
    "version": 3
   },
   "file_extension": ".py",
   "mimetype": "text/x-python",
   "name": "python",
   "nbconvert_exporter": "python",
   "pygments_lexer": "ipython3",
   "version": "3.11.7"
  }
 },
 "nbformat": 4,
 "nbformat_minor": 5
}
