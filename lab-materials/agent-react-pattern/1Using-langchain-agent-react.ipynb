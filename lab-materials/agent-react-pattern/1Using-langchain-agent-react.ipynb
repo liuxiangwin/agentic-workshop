{
 "cells": [
  {
   "cell_type": "code",
   "execution_count": 1,
   "id": "3eaa112b-020e-4b78-8bcf-f72dab6d0e82",
   "metadata": {},
   "outputs": [
    {
     "name": "stdout",
     "output_type": "stream",
     "text": [
      "\n",
      "\u001b[1m[\u001b[0m\u001b[34;49mnotice\u001b[0m\u001b[1;39;49m]\u001b[0m\u001b[39;49m A new release of pip is available: \u001b[0m\u001b[31;49m23.2.1\u001b[0m\u001b[39;49m -> \u001b[0m\u001b[32;49m25.0\u001b[0m\n",
      "\u001b[1m[\u001b[0m\u001b[34;49mnotice\u001b[0m\u001b[1;39;49m]\u001b[0m\u001b[39;49m To update, run: \u001b[0m\u001b[32;49mpip install --upgrade pip\u001b[0m\n",
      "\n",
      "\u001b[1m[\u001b[0m\u001b[34;49mnotice\u001b[0m\u001b[1;39;49m]\u001b[0m\u001b[39;49m A new release of pip is available: \u001b[0m\u001b[31;49m23.2.1\u001b[0m\u001b[39;49m -> \u001b[0m\u001b[32;49m25.0\u001b[0m\n",
      "\u001b[1m[\u001b[0m\u001b[34;49mnotice\u001b[0m\u001b[1;39;49m]\u001b[0m\u001b[39;49m To update, run: \u001b[0m\u001b[32;49mpip install --upgrade pip\u001b[0m\n"
     ]
    }
   ],
   "source": [
    "# !pip install tavily-python \n",
    "!pip install -U tavily-python langchain_community --quiet\n",
    "!pip install autogen-agentchat~=0.2 autogen psutil --quiet\n",
    "# !pip install -q langchain-openai termcolor langchain_community duckduckgo_search wikipedia openapi-python-client==0.12.3 langgraph langchain_experimental yfinance\n",
    "!pip install -q langchain-openai langchain-anthropic termcolor langchain_community duckduckgo_search wikipedia openapi-python-client langgraph langchain_experimental openai --quiet"
   ]
  },
  {
   "cell_type": "code",
   "execution_count": 2,
   "id": "58a12ded-0eee-403e-970c-1497de0d064b",
   "metadata": {},
   "outputs": [],
   "source": [
    "import getpass\n",
    "import os\n",
    "\n",
    "os.environ[\"TAVILY_API_KEY\"] = \"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\""
   ]
  },
  {
   "cell_type": "code",
   "execution_count": 3,
   "id": "9fd8229b-5e18-486a-8548-d88bf4383dc8",
   "metadata": {},
   "outputs": [],
   "source": [
    "from langchain_community.tools.tavily_search import TavilySearchResults\n"
   ]
  },
  {
   "cell_type": "code",
   "execution_count": 4,
   "id": "b0054110-eb64-44f8-ae3d-326da00446ff",
   "metadata": {},
   "outputs": [],
   "source": [
    "import os\n",
    "import autogen\n",
    "from typing import Literal\n",
    "\n",
    "from pydantic import BaseModel, Field\n",
    "from typing_extensions import Annotated\n",
    "\n",
    "import autogen\n",
    "from autogen.cache import Cache\n",
    "from langchain.callbacks.streaming_stdout import StreamingStdOutCallbackHandler\n",
    "from langgraph.graph import END, StateGraph, START\n",
    "\n",
    "INFERENCE_SERVER_URL = \"http://localhost:8000\"\n",
    "MODEL_NAME = \"ibm-granite/granite-3.0-8b-instruct\"\n",
    "API_KEY= \"alanliuxiang\""
   ]
  },
  {
   "cell_type": "code",
   "execution_count": 5,
   "id": "eda94037-35fd-4f67-95ef-3d5942dbe65a",
   "metadata": {},
   "outputs": [],
   "source": [
    "from typing import Annotated\n",
    "\n",
    "from langchain_anthropic import ChatAnthropic\n",
    "from typing_extensions import TypedDict\n",
    "\n",
    "from langgraph.graph import StateGraph\n",
    "from langgraph.graph.message import add_messages\n",
    "from langchain_openai import ChatOpenAI\n",
    "\n",
    "from langgraph.graph import StateGraph, START, END\n",
    "from langgraph.graph.message import add_messages\n",
    "from langgraph.prebuilt import ToolNode, tools_condition\n",
    "from langchain_core.tools import tool\n",
    "from langchain_core.messages import ToolMessage\n",
    "from langchain_core.tools import InjectedToolCallId, tool\n",
    "from langgraph.types import Command, interrupt\n",
    "from langchain.prompts import PromptTemplate\n",
    "from langchain.agents import AgentExecutor, create_react_agent\n",
    "from langchain_community.tools.tavily_search import TavilySearchResults\n",
    "from langchain_openai import OpenAI\n",
    "\n",
    "\n",
    "llm = ChatOpenAI(\n",
    "    openai_api_key=API_KEY,\n",
    "    openai_api_base= f\"{INFERENCE_SERVER_URL}/v1\",\n",
    "    model_name=MODEL_NAME,\n",
    "    top_p=0.92,\n",
    "    temperature=0.01,\n",
    "    max_tokens=512,\n",
    "    presence_penalty=1.03,\n",
    "    streaming=True,\n",
    "    callbacks=[StreamingStdOutCallbackHandler()]\n",
    ")\n",
    "\n",
    "tools = [TavilySearchResults(max_results=1)]\n"
   ]
  },
  {
   "cell_type": "code",
   "execution_count": 6,
   "id": "701bc4b1-ce73-4005-9326-4fcb054a5404",
   "metadata": {},
   "outputs": [
    {
     "name": "stdout",
     "output_type": "stream",
     "text": [
      "\n",
      "\n",
      "\u001b[1m> Entering new AgentExecutor chain...\u001b[0m\n",
      "Thought: I don't have the information about the ICC T20 World Cup in 2024 as it hasn't happened yet. I need to find out when the tournament is scheduled and then provide the answer.\n",
      "\n",
      "Action: tavily_search_results_json\n",
      "\n",
      "Action Input: ICC T20 World Cup 2024 schedule\n",
      "\u001b[32;1m\u001b[1;3mThought: I don't have the information about the ICC T20 World Cup in 2024 as it hasn't happened yet. I need to find out when the tournament is scheduled and then provide the answer.\n",
      "\n",
      "Action: tavily_search_results_json\n",
      "\n",
      "Action Input: ICC T20 World Cup 2024 schedule\n",
      "\u001b[0m\u001b[36;1m\u001b[1;3m[{'url': 'https://www.cricbuzz.com/cricket-series/7476/icc-mens-t20-world-cup-2024/matches', 'content': 'SRI LANKA vs SOUTH AFRICA, 4th Match, Group D NEW ZEALAND vs AFGHANISTAN, 14th Match, Group C AUSTRALIA vs ENGLAND, 17th Match, Group B INDIA vs PAKISTAN, 19th Match, Group A WEST INDIES vs NEW ZEALAND, 26th Match, Group C WEST INDIES vs AFGHANISTAN, 40th Match, Group C AUSTRALIA vs BANGLADESH, 44th Match, Super 8 Group 1 ENGLAND vs SOUTH AFRICA, 45th Match, Super 8 Group 2 UNITED STATES OF AMERICA vs WEST INDIES, 46th Match, Super 8 Group 2 INDIA vs BANGLADESH, 47th Match, Super 8 Group 1 AFGHANISTAN vs AUSTRALIA, 48th Match, Super 8 Group 1 UNITED STATES OF AMERICA vs ENGLAND, 49th Match, Super 8 Group 2 WEST INDIES vs SOUTH AFRICA, 50th Match, Super 8 Group 2'}]\u001b[0mThought: The ICC T20 World Cup 2024 has not been scheduled yet. Therefore, I cannot provide the winner or the capital city of the winning country.\n",
      "\n",
      "Final Answer: The ICC T20 World Cup 2024 has not been scheduled yet, so I cannot provide the winner or the capital city of the winning country.\u001b[32;1m\u001b[1;3mThought: The ICC T20 World Cup 2024 has not been scheduled yet. Therefore, I cannot provide the winner or the capital city of the winning country.\n",
      "\n",
      "Final Answer: The ICC T20 World Cup 2024 has not been scheduled yet, so I cannot provide the winner or the capital city of the winning country.\u001b[0m\n",
      "\n",
      "\u001b[1m> Finished chain.\u001b[0m\n"
     ]
    },
    {
     "data": {
      "text/plain": [
       "'\\nWhen looking for information about current events, I should use a search \\nengine optimized for comprehensive, accurate, and trusted results.\\n\\nAction: tavily_search_results_json\\nAction Input: \"ICC t20 World Cup 2024 winner country\"\\n[{\\'url\\': \\'https://icccworldcup.com/icc-t20-world-cup-winners/\\', \\'content\\': \\'Explore the complete list of ICC T20 World Cup winners from 2007 to 2024. Discover the champions and their journey to victory in the T20 World Cup history! ... T20 World Cup Winners List | Country-wise. Country No. of Times Winner Years; West Indies: 2: 2012, 2016: India: 2: 2007, 2024: Pakistan: 1: 2009: England: 2: 2010, 2022: Sri Lanka: 1:\\'}]Now that I know the winner country, I should search for the capital city of that country.\\n\\nAction: tavily_search_results_json\\nAction Input: \"Capital city of India\"\\n[{\\'url\\': \\'https://en.wikipedia.org/wiki/List_of_state_and_union_territory_capitals_in_India\\', \\'content\\': \\'List of state and union territory capitals in India - Wikipedia List of state and union territory capitals in India India is a federal constitutional republic governed under a parliamentary system consisting of 28 states and 8 union territories.[1] All states, as well as the union territories of Jammu and Kashmir, Puducherry and the National Capital Territory of Delhi, have elected legislatures and governments, both patterned on the Westminster model. The legislatures of three states Himachal Pradesh, Maharashtra and Uttarakhand meet in different capitals for their summer and winter sessions. Nagpur (Winter) | Mumbai | 1960 | \\xa0— | State and Union Territory capitals of India Retrieved from \"https://en.wikipedia.org/w/index.php?title=List_of_state_and_union_territory_capitals_in_India&oldid=1246142689\" States and union territories of India-related lists\\'}]Now that I know the capital city of the winner country, I have all the information I need to answer the original question.\\n\\nFinal Answer: The country that won the ICC t20 World Cup in 2024 is India \\nand the capital city of India is New Delhi.\\n'"
      ]
     },
     "execution_count": 6,
     "metadata": {},
     "output_type": "execute_result"
    }
   ],
   "source": [
    "# ReAct System prompt\n",
    "system_prompt = \"\"\"\n",
    "Answer the following questions as best you can. You have access to the \n",
    "following tools:\n",
    "\n",
    "{tools}\n",
    "\n",
    "Use the following format:\n",
    "\n",
    "Question: the input question you must answer\n",
    "\n",
    "Thought: you should always think about what to do\n",
    "\n",
    "Action: the action to take, should be one of [{tool_names}]\n",
    "\n",
    "Action Input: the input to the action\n",
    "\n",
    "Observation: the result of the action\n",
    "\n",
    "... (this Thought/Action/Action Input/Observation can repeat N times)\n",
    "\n",
    "Thought: I now know the final answer\n",
    "\n",
    "Final Answer: the final answer to the original input question\n",
    "\n",
    "Begin!\n",
    "\n",
    "Question: {input}\n",
    "\n",
    "Thought:{agent_scratchpad}\n",
    "\"\"\"\n",
    "\n",
    "prompt = PromptTemplate.from_template(system_prompt)\n",
    "\n",
    "\n",
    "# Construct the ReAct agent\n",
    "agent = create_react_agent(llm, tools, prompt)\n",
    "\n",
    "# Create an agent executor by passing in the agent and tools\n",
    "agent_executor = AgentExecutor(agent=agent, tools=tools, verbose=True)\n",
    "\n",
    "question = \"\"\"Which country won the ICC t20  World Cup in 2024? \n",
    "What is the name of the capital city of that county?\"\"\"\n",
    "\n",
    "agent_executor.invoke({\"input\": question})\n",
    "\n",
    "# Response \n",
    "\"\"\"\n",
    "When looking for information about current events, I should use a search \n",
    "engine optimized for comprehensive, accurate, and trusted results.\n",
    "\n",
    "Action: tavily_search_results_json\n",
    "Action Input: \"ICC t20 World Cup 2024 winner country\"\n",
    "[{'url': 'https://icccworldcup.com/icc-t20-world-cup-winners/', 'content': 'Explore the complete list of ICC T20 World Cup winners from 2007 to 2024. Discover the champions and their journey to victory in the T20 World Cup history! ... T20 World Cup Winners List | Country-wise. Country No. of Times Winner Years; West Indies: 2: 2012, 2016: India: 2: 2007, 2024: Pakistan: 1: 2009: England: 2: 2010, 2022: Sri Lanka: 1:'}]Now that I know the winner country, I should search for the capital city of that country.\n",
    "\n",
    "Action: tavily_search_results_json\n",
    "Action Input: \"Capital city of India\"\n",
    "[{'url': 'https://en.wikipedia.org/wiki/List_of_state_and_union_territory_capitals_in_India', 'content': 'List of state and union territory capitals in India - Wikipedia List of state and union territory capitals in India India is a federal constitutional republic governed under a parliamentary system consisting of 28 states and 8 union territories.[1] All states, as well as the union territories of Jammu and Kashmir, Puducherry and the National Capital Territory of Delhi, have elected legislatures and governments, both patterned on the Westminster model. The legislatures of three states Himachal Pradesh, Maharashtra and Uttarakhand meet in different capitals for their summer and winter sessions. Nagpur (Winter) | Mumbai | 1960 | \\xa0— | State and Union Territory capitals of India Retrieved from \"https://en.wikipedia.org/w/index.php?title=List_of_state_and_union_territory_capitals_in_India&oldid=1246142689\" States and union territories of India-related lists'}]Now that I know the capital city of the winner country, I have all the information I need to answer the original question.\n",
    "\n",
    "Final Answer: The country that won the ICC t20 World Cup in 2024 is India \n",
    "and the capital city of India is New Delhi.\n",
    "\"\"\""
   ]
  }
 ],
 "metadata": {
  "kernelspec": {
   "display_name": "Python 3.11",
   "language": "python",
   "name": "python3"
  },
  "language_info": {
   "codemirror_mode": {
    "name": "ipython",
    "version": 3
   },
   "file_extension": ".py",
   "mimetype": "text/x-python",
   "name": "python",
   "nbconvert_exporter": "python",
   "pygments_lexer": "ipython3",
   "version": "3.11.7"
  }
 },
 "nbformat": 4,
 "nbformat_minor": 5
}
