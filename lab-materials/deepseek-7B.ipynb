{
 "cells": [
  {
   "cell_type": "code",
   "execution_count": null,
   "id": "711467ab-4bda-4576-8bac-ed570ca5fa53",
   "metadata": {},
   "outputs": [],
   "source": [
    "!pip install vllm huggingface_hub transformers==4.46.3 safetensors==0.4.5 --quiet"
   ]
  },
  {
   "cell_type": "code",
   "execution_count": null,
   "id": "6e75bdd0-1bdf-4563-8fb0-40e93e6be152",
   "metadata": {},
   "outputs": [],
   "source": [
    "# !CUDA_VISIBLE_DEVICES=0,1,2,3  vllm serve \"deepseek-ai/DeepSeek-R1-Distill-Qwen-14B\" \\\n",
    "#     --port 8989 \\\n",
    "#     --api-key alanliuxiang \\\n",
    "#     --tensor-parallel-size 4 \\\n",
    "#     --enable-auto-tool-choice \\\n",
    "#     --tool-call-parser granite \\\n",
    "#     --gpu-memory-utilization 0.8 \\\n",
    "#     --max_model_len 34688   "
   ]
  },
  {
   "cell_type": "code",
   "execution_count": null,
   "id": "d10555f9-b8a9-403a-abc8-ed3b76ba2cae",
   "metadata": {},
   "outputs": [],
   "source": [
    "# !CUDA_VISIBLE_DEVICES=1,3 vllm serve deepseek-ai/DeepSeek-R1-Distill-Qwen-1.5B \\\n",
    "#     --port 8989 \\\n",
    "#     --api-key alanliuxiang \\\n",
    "#     --enable-reasoning --reasoning-parser deepseek_r1\n",
    "\n",
    "!CUDA_VISIBLE_DEVICES=2,3  vllm serve \"deepseek-ai/DeepSeek-R1-Distill-Qwen-7B\" \\\n",
    "    --port 8989 \\\n",
    "    --api-key alanliuxiang \\\n",
    "    --tensor-parallel-size 2 \\\n",
    "    --enable-auto-tool-choice \\\n",
    "    --tool-call-parser granite \\\n",
    "    --gpu-memory-utilization 0.8 \\\n",
    "    --max_model_len 34688   "
   ]
  }
 ],
 "metadata": {
  "kernelspec": {
   "display_name": "Python 3.11",
   "language": "python",
   "name": "python3"
  },
  "language_info": {
   "codemirror_mode": {
    "name": "ipython",
    "version": 3
   },
   "file_extension": ".py",
   "mimetype": "text/x-python",
   "name": "python",
   "nbconvert_exporter": "python",
   "pygments_lexer": "ipython3",
   "version": "3.11.7"
  }
 },
 "nbformat": 4,
 "nbformat_minor": 5
}
