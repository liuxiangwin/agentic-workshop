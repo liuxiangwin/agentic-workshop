{
 "cells": [
  {
   "cell_type": "code",
   "execution_count": 1,
   "id": "3eaa112b-020e-4b78-8bcf-f72dab6d0e82",
   "metadata": {},
   "outputs": [
    {
     "name": "stdout",
     "output_type": "stream",
     "text": [
      "\n",
      "\u001b[1m[\u001b[0m\u001b[34;49mnotice\u001b[0m\u001b[1;39;49m]\u001b[0m\u001b[39;49m A new release of pip is available: \u001b[0m\u001b[31;49m23.2.1\u001b[0m\u001b[39;49m -> \u001b[0m\u001b[32;49m25.0\u001b[0m\n",
      "\u001b[1m[\u001b[0m\u001b[34;49mnotice\u001b[0m\u001b[1;39;49m]\u001b[0m\u001b[39;49m To update, run: \u001b[0m\u001b[32;49mpip install --upgrade pip\u001b[0m\n",
      "\n",
      "\u001b[1m[\u001b[0m\u001b[34;49mnotice\u001b[0m\u001b[1;39;49m]\u001b[0m\u001b[39;49m A new release of pip is available: \u001b[0m\u001b[31;49m23.2.1\u001b[0m\u001b[39;49m -> \u001b[0m\u001b[32;49m25.0\u001b[0m\n",
      "\u001b[1m[\u001b[0m\u001b[34;49mnotice\u001b[0m\u001b[1;39;49m]\u001b[0m\u001b[39;49m To update, run: \u001b[0m\u001b[32;49mpip install --upgrade pip\u001b[0m\n"
     ]
    }
   ],
   "source": [
    "# !pip install tavily-python \n",
    "!pip install -U tavily-python langchain_community --quiet\n",
    "!pip install autogen-agentchat~=0.2 autogen psutil --quiet\n",
    "# !pip install -q langchain-openai termcolor langchain_community duckduckgo_search wikipedia openapi-python-client==0.12.3 langgraph langchain_experimental yfinance\n",
    "!pip install -q langchain-openai langchain-anthropic termcolor langchain_community duckduckgo_search wikipedia openapi-python-client langgraph langchain_experimental openai --quiet"
   ]
  },
  {
   "cell_type": "code",
   "execution_count": 2,
   "id": "58a12ded-0eee-403e-970c-1497de0d064b",
   "metadata": {},
   "outputs": [],
   "source": [
    "import getpass\n",
    "import os\n",
    "\n",
    "os.environ[\"TAVILY_API_KEY\"] = \"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\""
   ]
  },
  {
   "cell_type": "code",
   "execution_count": 3,
   "id": "9fd8229b-5e18-486a-8548-d88bf4383dc8",
   "metadata": {},
   "outputs": [],
   "source": [
    "from langchain_community.tools.tavily_search import TavilySearchResults\n"
   ]
  },
  {
   "cell_type": "code",
   "execution_count": 4,
   "id": "b0054110-eb64-44f8-ae3d-326da00446ff",
   "metadata": {},
   "outputs": [],
   "source": [
    "import os\n",
    "import autogen\n",
    "from typing import Literal\n",
    "\n",
    "from pydantic import BaseModel, Field\n",
    "from typing_extensions import Annotated\n",
    "\n",
    "import autogen\n",
    "from autogen.cache import Cache\n",
    "from langchain.callbacks.streaming_stdout import StreamingStdOutCallbackHandler\n",
    "from langgraph.graph import END, StateGraph, START\n",
    "\n",
    "INFERENCE_SERVER_URL = \"http://localhost:8000\"\n",
    "MODEL_NAME = \"ibm-granite/granite-3.0-8b-instruct\"\n",
    "API_KEY= \"alanliuxiang\""
   ]
  },
  {
   "cell_type": "code",
   "execution_count": 5,
   "id": "71441f7c-203a-4824-8d18-11b53e84c4bb",
   "metadata": {},
   "outputs": [],
   "source": [
    "from langgraph.checkpoint.memory import MemorySaver\n",
    "\n",
    "memory = MemorySaver()"
   ]
  },
  {
   "cell_type": "code",
   "execution_count": 6,
   "id": "eda94037-35fd-4f67-95ef-3d5942dbe65a",
   "metadata": {},
   "outputs": [
    {
     "data": {
      "text/plain": [
       "<langgraph.graph.state.StateGraph at 0x7fb442a12dd0>"
      ]
     },
     "execution_count": 6,
     "metadata": {},
     "output_type": "execute_result"
    }
   ],
   "source": [
    "from typing import Annotated\n",
    "\n",
    "from langchain_anthropic import ChatAnthropic\n",
    "from typing_extensions import TypedDict\n",
    "\n",
    "from langgraph.graph import StateGraph\n",
    "from langgraph.graph.message import add_messages\n",
    "from langchain_openai import ChatOpenAI\n",
    "\n",
    "from langgraph.graph import StateGraph, START, END\n",
    "from langgraph.graph.message import add_messages\n",
    "from langgraph.prebuilt import ToolNode, tools_condition\n",
    "from langchain_core.tools import tool\n",
    "\n",
    "class State(TypedDict):\n",
    "    messages: Annotated[list, add_messages]\n",
    "\n",
    "\n",
    "graph_builder = StateGraph(State)\n",
    "\n",
    "llm = ChatOpenAI(\n",
    "    openai_api_key=API_KEY,\n",
    "    openai_api_base= f\"{INFERENCE_SERVER_URL}/v1\",\n",
    "    model_name=MODEL_NAME,\n",
    "    top_p=0.92,\n",
    "    temperature=0.01,\n",
    "    max_tokens=512,\n",
    "    presence_penalty=1.03,\n",
    "    streaming=True,\n",
    "    callbacks=[StreamingStdOutCallbackHandler()]\n",
    ")\n",
    "\n",
    "@tool\n",
    "def human_assistance(query: str) -> str:\n",
    "    \"\"\"Request assistance from a human.\"\"\"\n",
    "    human_response = interrupt({\"query\": query})\n",
    "    return human_response[\"data\"]\n",
    "\n",
    "\n",
    "tool = TavilySearchResults(max_results=2)\n",
    "tools = [tool,human_assistance]\n",
    "# tool.invoke(\"What's a 'node' in LangGraph?\")\n",
    "llm_with_tools = llm.bind_tools(tools)\n",
    "\n",
    "def chatbot(state: State):\n",
    "    message = llm_with_tools.invoke(state[\"messages\"])\n",
    "    # Because we will be interrupting during tool execution,\n",
    "    # we disable parallel tool calling to avoid repeating any\n",
    "    # tool invocations when we resume.\n",
    "    assert len(message.tool_calls) <= 1\n",
    "    return {\"messages\": [message]}\n",
    "\n",
    "graph_builder.add_node(\"chatbot\", chatbot)\n",
    "\n",
    "tool_node = ToolNode(tools=[tool])\n",
    "graph_builder.add_node(\"tools\", tool_node)\n",
    "\n",
    "graph_builder.add_conditional_edges(\n",
    "    \"chatbot\",\n",
    "    tools_condition,\n",
    ")\n",
    "# Any time a tool is called, we return to the chatbot to decide the next step\n",
    "graph_builder.add_edge(\"tools\", \"chatbot\")\n",
    "graph_builder.add_edge(START, \"chatbot\")\n"
   ]
  },
  {
   "cell_type": "code",
   "execution_count": 7,
   "id": "701bc4b1-ce73-4005-9326-4fcb054a5404",
   "metadata": {},
   "outputs": [],
   "source": [
    "graph = graph_builder.compile(checkpointer=memory)"
   ]
  },
  {
   "cell_type": "code",
   "execution_count": 8,
   "id": "8ed27746-7fd1-4bbc-9e89-7b3a8095a633",
   "metadata": {},
   "outputs": [
    {
     "data": {
      "image/png": "[encoded data removed]",
      "text/plain": [
       "<IPython.core.display.Image object>"
      ]
     },
     "metadata": {},
     "output_type": "display_data"
    }
   ],
   "source": [
    "from IPython.display import Image, display\n",
    "\n",
    "try:\n",
    "    display(Image(graph.get_graph().draw_mermaid_png()))\n",
    "except Exception:\n",
    "    # This requires some extra dependencies and is optional\n",
    "    pass"
   ]
  },
  {
   "cell_type": "code",
   "execution_count": 9,
   "id": "e8cfc643-39c6-45f2-a989-3fcf18b47580",
   "metadata": {},
   "outputs": [],
   "source": [
    "config = {\"configurable\": {\"thread_id\": \"1\"}}"
   ]
  },
  {
   "cell_type": "code",
   "execution_count": 10,
   "id": "dbff14c8-c711-4105-97ae-b8ce5d65fb43",
   "metadata": {},
   "outputs": [
    {
     "name": "stdout",
     "output_type": "stream",
     "text": [
      "================================\u001b[1m Human Message \u001b[0m=================================\n",
      "\n",
      "I need some expert guidance for building an AI agent. Could you request assistance for me?\n",
      "==================================\u001b[1m Ai Message \u001b[0m==================================\n",
      "Tool Calls:\n",
      "  human_assistance (chatcmpl-tool-f64b593051ae4a60b57db6417fa11fcd)\n",
      " Call ID: chatcmpl-tool-f64b593051ae4a60b57db6417fa11fcd\n",
      "  Args:\n",
      "    query: I need some expert guidance for building an AI agent.\n",
      "=================================\u001b[1m Tool Message \u001b[0m=================================\n",
      "Name: human_assistance\n",
      "\n",
      "Error: human_assistance is not a valid tool, try one of [tavily_search_results_json].\n",
      "I'm glad to help you with your AI agent project! However, I'm an AI language model and I don't have the ability to directly request assistance from humans. But I can certainly provide you with some guidance and resources to help you build your AI agent.\n",
      "\n",
      "Here are some steps you can follow:\n",
      "\n",
      "1. Define the purpose and scope of your AI agent. What tasks will it perform? Who will use it? What data will it need to access?\n",
      "2. Choose a programming language and development environment. Python is a popular choice for AI development due to its extensive libraries and frameworks.\n",
      "3. Select a machine learning framework. TensorFlow, PyTorch, and Scikit-learn are popular options.\n",
      "4. Gather and preprocess your data. This may involve web scraping, data cleaning, and feature engineering.\n",
      "5. Train your AI model using your data. This may involve supervised learning, unsupervised learning, or reinforcement learning.\n",
      "6. Evaluate and optimize your model. Use metrics such as accuracy, precision, recall, and F1 score to evaluate your model's performance.\n",
      "7. Deploy your AI agent. This may involve integrating it with a web application, mobile app, or other software.\n",
      "\n",
      "Here are some resources to help you along the way:\n",
      "\n",
      "* [Python for AI](https://www.python.org/about/apps/)\n",
      "* [TensorFlow](https://www.tensorflow.org/)\n",
      "* [PyTorch](https://pytorch.org/)\n",
      "* [Scikit-learn](https://scikit-learn.org/stable/)\n",
      "* [Kaggle](https://www.kaggle.com/)\n",
      "* [ArXiv](https://arxiv.org/)\n",
      "* [Papers With Code](https://paperswithcode.com/)\n",
      "\n",
      "I hope this helps! Let me know if you have any further questions.==================================\u001b[1m Ai Message \u001b[0m==================================\n",
      "\n",
      "I'm glad to help you with your AI agent project! However, I'm an AI language model and I don't have the ability to directly request assistance from humans. But I can certainly provide you with some guidance and resources to help you build your AI agent.\n",
      "\n",
      "Here are some steps you can follow:\n",
      "\n",
      "1. Define the purpose and scope of your AI agent. What tasks will it perform? Who will use it? What data will it need to access?\n",
      "2. Choose a programming language and development environment. Python is a popular choice for AI development due to its extensive libraries and frameworks.\n",
      "3. Select a machine learning framework. TensorFlow, PyTorch, and Scikit-learn are popular options.\n",
      "4. Gather and preprocess your data. This may involve web scraping, data cleaning, and feature engineering.\n",
      "5. Train your AI model using your data. This may involve supervised learning, unsupervised learning, or reinforcement learning.\n",
      "6. Evaluate and optimize your model. Use metrics such as accuracy, precision, recall, and F1 score to evaluate your model's performance.\n",
      "7. Deploy your AI agent. This may involve integrating it with a web application, mobile app, or other software.\n",
      "\n",
      "Here are some resources to help you along the way:\n",
      "\n",
      "* [Python for AI](https://www.python.org/about/apps/)\n",
      "* [TensorFlow](https://www.tensorflow.org/)\n",
      "* [PyTorch](https://pytorch.org/)\n",
      "* [Scikit-learn](https://scikit-learn.org/stable/)\n",
      "* [Kaggle](https://www.kaggle.com/)\n",
      "* [ArXiv](https://arxiv.org/)\n",
      "* [Papers With Code](https://paperswithcode.com/)\n",
      "\n",
      "I hope this helps! Let me know if you have any further questions.\n"
     ]
    }
   ],
   "source": [
    "user_input = \"I need some expert guidance for building an AI agent. Could you request assistance for me?\"\n",
    "config = {\"configurable\": {\"thread_id\": \"1\"}}\n",
    "\n",
    "events = graph.stream(\n",
    "    {\"messages\": [{\"role\": \"user\", \"content\": user_input}]},\n",
    "    config,\n",
    "    stream_mode=\"values\",\n",
    ")\n",
    "for event in events:\n",
    "    if \"messages\" in event:\n",
    "        event[\"messages\"][-1].pretty_print()"
   ]
  },
  {
   "cell_type": "code",
   "execution_count": 11,
   "id": "d0f6b8e6-cc3d-45b5-b344-875d84fa7c41",
   "metadata": {},
   "outputs": [
    {
     "name": "stdout",
     "output_type": "stream",
     "text": [
      "================================\u001b[1m Human Message \u001b[0m=================================\n",
      "\n",
      "Remember my name?\n",
      "I'm sorry, I don't have the ability to remember personal information such as names. However, I'm here to assist you with any questions or tasks you have.==================================\u001b[1m Ai Message \u001b[0m==================================\n",
      "\n",
      "I'm sorry, I don't have the ability to remember personal information such as names. However, I'm here to assist you with any questions or tasks you have.\n"
     ]
    }
   ],
   "source": [
    "user_input = \"Remember my name?\"\n",
    "\n",
    "# The config is the **second positional argument** to stream() or invoke()!\n",
    "events = graph.stream(\n",
    "    {\"messages\": [{\"role\": \"user\", \"content\": user_input}]},\n",
    "    config,\n",
    "    stream_mode=\"values\",\n",
    ")\n",
    "for event in events:\n",
    "    event[\"messages\"][-1].pretty_print()"
   ]
  },
  {
   "cell_type": "code",
   "execution_count": 12,
   "id": "d17b079f-1987-4920-8ec2-4113a7c847c1",
   "metadata": {},
   "outputs": [
    {
     "name": "stdout",
     "output_type": "stream",
     "text": [
      "================================\u001b[1m Human Message \u001b[0m=================================\n",
      "\n",
      "Remember my name?\n",
      "I'm sorry, I don't have the ability to remember personal information such as names. However, I can help you with any questions or tasks you have.==================================\u001b[1m Ai Message \u001b[0m==================================\n",
      "\n",
      "I'm sorry, I don't have the ability to remember personal information such as names. However, I can help you with any questions or tasks you have.\n"
     ]
    }
   ],
   "source": [
    "# The only difference is we change the `thread_id` here to \"2\" instead of \"1\"\n",
    "events = graph.stream(\n",
    "    {\"messages\": [{\"role\": \"user\", \"content\": user_input}]},\n",
    "    {\"configurable\": {\"thread_id\": \"2\"}},\n",
    "    stream_mode=\"values\",\n",
    ")\n",
    "for event in events:\n",
    "    event[\"messages\"][-1].pretty_print()"
   ]
  },
  {
   "cell_type": "code",
   "execution_count": 13,
   "id": "c4f4ede1-952c-4aee-b36f-269870496672",
   "metadata": {},
   "outputs": [
    {
     "data": {
      "text/plain": [
       "StateSnapshot(values={'messages': [HumanMessage(content='I need some expert guidance for building an AI agent. Could you request assistance for me?', additional_kwargs={}, response_metadata={}, id='ae2b72b8-df20-40cb-953b-90025c2944a7'), AIMessage(content='', additional_kwargs={'tool_calls': [{'index': 0, 'id': 'chatcmpl-tool-f64b593051ae4a60b57db6417fa11fcd', 'function': {'arguments': '{\"query\": \"I need some expert guidance for building an AI agent.\"}', 'name': 'human_assistance'}, 'type': 'function'}]}, response_metadata={'finish_reason': 'tool_calls', 'model_name': 'ibm-granite/granite-3.0-8b-instruct'}, id='run-f55fc76d-a8cc-43de-addd-a13e42000ef2-0', tool_calls=[{'name': 'human_assistance', 'args': {'query': 'I need some expert guidance for building an AI agent.'}, 'id': 'chatcmpl-tool-f64b593051ae4a60b57db6417fa11fcd', 'type': 'tool_call'}]), ToolMessage(content='Error: human_assistance is not a valid tool, try one of [tavily_search_results_json].', name='human_assistance', id='7b81dcbc-6558-4627-9f45-36b06c40db61', tool_call_id='chatcmpl-tool-f64b593051ae4a60b57db6417fa11fcd', status='error'), AIMessage(content=\"I'm glad to help you with your AI agent project! However, I'm an AI language model and I don't have the ability to directly request assistance from humans. But I can certainly provide you with some guidance and resources to help you build your AI agent.\\n\\nHere are some steps you can follow:\\n\\n1. Define the purpose and scope of your AI agent. What tasks will it perform? Who will use it? What data will it need to access?\\n2. Choose a programming language and development environment. Python is a popular choice for AI development due to its extensive libraries and frameworks.\\n3. Select a machine learning framework. TensorFlow, PyTorch, and Scikit-learn are popular options.\\n4. Gather and preprocess your data. This may involve web scraping, data cleaning, and feature engineering.\\n5. Train your AI model using your data. This may involve supervised learning, unsupervised learning, or reinforcement learning.\\n6. Evaluate and optimize your model. Use metrics such as accuracy, precision, recall, and F1 score to evaluate your model's performance.\\n7. Deploy your AI agent. This may involve integrating it with a web application, mobile app, or other software.\\n\\nHere are some resources to help you along the way:\\n\\n* [Python for AI](https://www.python.org/about/apps/)\\n* [TensorFlow](https://www.tensorflow.org/)\\n* [PyTorch](https://pytorch.org/)\\n* [Scikit-learn](https://scikit-learn.org/stable/)\\n* [Kaggle](https://www.kaggle.com/)\\n* [ArXiv](https://arxiv.org/)\\n* [Papers With Code](https://paperswithcode.com/)\\n\\nI hope this helps! Let me know if you have any further questions.\", additional_kwargs={}, response_metadata={'finish_reason': 'stop', 'model_name': 'ibm-granite/granite-3.0-8b-instruct'}, id='run-1fc01801-79ee-46c1-8a08-bd8b4612edda-0'), HumanMessage(content='Remember my name?', additional_kwargs={}, response_metadata={}, id='f95b4315-f2b8-4385-b1f7-6d6c9c8e8f0f'), AIMessage(content=\"I'm sorry, I don't have the ability to remember personal information such as names. However, I'm here to assist you with any questions or tasks you have.\", additional_kwargs={}, response_metadata={'finish_reason': 'stop', 'model_name': 'ibm-granite/granite-3.0-8b-instruct'}, id='run-64ad5305-fcbc-41bd-a3dd-3040a13c1e77-0')]}, next=(), config={'configurable': {'thread_id': '1', 'checkpoint_ns': '', 'checkpoint_id': '1efe1610-f036-6d3b-8006-fa2acc55427c'}}, metadata={'source': 'loop', 'writes': {'chatbot': {'messages': [AIMessage(content=\"I'm sorry, I don't have the ability to remember personal information such as names. However, I'm here to assist you with any questions or tasks you have.\", additional_kwargs={}, response_metadata={'finish_reason': 'stop', 'model_name': 'ibm-granite/granite-3.0-8b-instruct'}, id='run-64ad5305-fcbc-41bd-a3dd-3040a13c1e77-0')]}}, 'thread_id': '1', 'step': 6, 'parents': {}}, created_at='2025-02-02T12:27:25.173465+00:00', parent_config={'configurable': {'thread_id': '1', 'checkpoint_ns': '', 'checkpoint_id': '1efe1610-d786-6d0b-8005-2742e25b2dfd'}}, tasks=())"
      ]
     },
     "execution_count": 13,
     "metadata": {},
     "output_type": "execute_result"
    }
   ],
   "source": [
    "snapshot = graph.get_state(config)\n",
    "snapshot"
   ]
  },
  {
   "cell_type": "code",
   "execution_count": 14,
   "id": "4aa1fe11-6ac5-4d81-bd07-e20b6c72df9c",
   "metadata": {},
   "outputs": [
    {
     "data": {
      "text/plain": [
       "()"
      ]
     },
     "execution_count": 14,
     "metadata": {},
     "output_type": "execute_result"
    }
   ],
   "source": [
    "snapshot.next  # (since the graph ended this turn, `next` is empty. If you fetch a state from within a graph invocation, next tells which node will execute next)"
   ]
  }
 ],
 "metadata": {
  "kernelspec": {
   "display_name": "Python 3.11",
   "language": "python",
   "name": "python3"
  },
  "language_info": {
   "codemirror_mode": {
    "name": "ipython",
    "version": 3
   },
   "file_extension": ".py",
   "mimetype": "text/x-python",
   "name": "python",
   "nbconvert_exporter": "python",
   "pygments_lexer": "ipython3",
   "version": "3.11.7"
  }
 },
 "nbformat": 4,
 "nbformat_minor": 5
}
