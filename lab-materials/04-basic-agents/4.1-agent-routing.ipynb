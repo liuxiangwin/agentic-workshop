{
 "cells": [
  {
   "cell_type": "markdown",
   "id": "766aaa81-96e6-42dc-b29d-8216d2a7feec",
   "metadata": {},
   "source": [
    "## 4.1 Routing Agents"
   ]
  },
  {
   "cell_type": "markdown",
   "id": "0022f3fb-ee50-40f2-b276-b8194668e49e",
   "metadata": {},
   "source": [
    "### 1. Setup"
   ]
  },
  {
   "cell_type": "markdown",
   "id": "6210f6d4-0375-486e-ba37-8c25c5f18f10",
   "metadata": {},
   "source": [
    "#### Installing Required Packages"
   ]
  },
  {
   "cell_type": "code",
   "execution_count": 1,
   "id": "16f6001c",
   "metadata": {},
   "outputs": [],
   "source": [
    "#!pip install -q langchain-openai termcolor langchain_community duckduckgo_search wikipedia openapi-python-client==0.12.3 langgraph langchain_experimental\n",
    "!pip install -q langchain-openai termcolor langchain_community duckduckgo_search wikipedia openapi-python-client langgraph langchain_experimental openai --quiet"
   ]
  },
  {
   "cell_type": "code",
   "execution_count": 2,
   "id": "60bb3f0f-40b5-49a6-b493-5e361db0113e",
   "metadata": {
    "tags": []
   },
   "outputs": [],
   "source": [
    "# Imports\n",
    "import os\n",
    "import json\n",
    "from langchain.chains import ConversationChain\n",
    "from langchain.memory import ConversationBufferMemory\n",
    "from langchain.chains import LLMChain\n",
    "#from langchain_community.llms import VLLMOpenAI\n",
    "from langchain_openai import ChatOpenAI\n",
    "from langchain.callbacks.streaming_stdout import StreamingStdOutCallbackHandler\n",
    "from langchain.prompts import PromptTemplate"
   ]
  },
  {
   "cell_type": "markdown",
   "id": "484b7c62-ea7d-4fd3-adcf-847beee5c0fb",
   "metadata": {},
   "source": [
    "### 2. Model Configuration"
   ]
  },
  {
   "cell_type": "markdown",
   "id": "d94bf848-656e-49ee-bc1e-7c4d2474678d",
   "metadata": {},
   "source": [
    "#### 2.1 Define the Inference Model Server specifics"
   ]
  },
  {
   "cell_type": "code",
   "execution_count": 3,
   "id": "7b908fd0-01dd-4ad2-b745-b3a4c56a7a7e",
   "metadata": {
    "tags": []
   },
   "outputs": [],
   "source": [
    "# INFERENCE_SERVER_URL = \"http://vllm.llm-deploy.svc.cluster.local:8000\"\n",
    "# MODEL_NAME = \" mistralai/Mistral-7B-Instruct-v0.2\"\n",
    "# API_KEY= \"EMPTY\"\n",
    "\n",
    "INFERENCE_SERVER_URL = \"http://localhost:8000\"\n",
    "MODEL_NAME = \"ibm-granite/granite-3.0-8b-instruct\"\n",
    "API_KEY= \"alanliuxiang\""
   ]
  },
  {
   "cell_type": "markdown",
   "id": "472b2f3f-ac23-4531-984b-6e8357233992",
   "metadata": {},
   "source": [
    "#### 2.2 Create the LLM instance"
   ]
  },
  {
   "cell_type": "code",
   "execution_count": 4,
   "id": "01baa2b8-529d-455d-ad39-ef4a96dbaf97",
   "metadata": {
    "tags": []
   },
   "outputs": [],
   "source": [
    "llm = ChatOpenAI(\n",
    "    openai_api_key=API_KEY,\n",
    "    openai_api_base= f\"{INFERENCE_SERVER_URL}/v1\",\n",
    "    model_name=MODEL_NAME,\n",
    "    top_p=0.92,\n",
    "    temperature=0.01,\n",
    "    max_tokens=512,\n",
    "    presence_penalty=1.03,\n",
    "    streaming=True,\n",
    "    callbacks=[StreamingStdOutCallbackHandler()]\n",
    ")"
   ]
  },
  {
   "cell_type": "markdown",
   "id": "f93d3411-9326-4f30-9d13-3263010e17cb",
   "metadata": {},
   "source": [
    "### 3. Building Agents"
   ]
  },
  {
   "cell_type": "markdown",
   "id": "d85af9f6-f476-4b4a-bf76-1aad9da29bab",
   "metadata": {
    "tags": []
   },
   "source": [
    "#### 3.1 Setup"
   ]
  },
  {
   "cell_type": "code",
   "execution_count": 17,
   "id": "61f8bd4d-9e6d-40ba-aaec-2441da40683c",
   "metadata": {
    "tags": []
   },
   "outputs": [],
   "source": [
    "from typing import Annotated\n",
    "\n",
    "from typing_extensions import TypedDict\n",
    "\n",
    "from langgraph.graph import StateGraph, START, END\n",
    "from langgraph.graph.message import add_messages\n",
    "from langchain_core.tools import tool\n",
    "from langchain_experimental.utilities import PythonREPL\n",
    "import getpass\n",
    "import os\n",
    "\n",
    "\n",
    "def _set_env(var: str):\n",
    "    if not os.environ.get(var):\n",
    "        os.environ[var] = getpass.getpass(f\"{var}: \")"
   ]
  },
  {
   "cell_type": "markdown",
   "id": "7981cadd-2a68-498a-9522-9f326f98cd89",
   "metadata": {},
   "source": [
    "### 3.2 Create Agents"
   ]
  },
  {
   "cell_type": "code",
   "execution_count": 6,
   "id": "64d96fe7-b74d-4e93-af91-5ba2c5242fc7",
   "metadata": {
    "tags": []
   },
   "outputs": [],
   "source": [
    "from langchain_core.messages import (\n",
    "    BaseMessage,\n",
    "    HumanMessage,\n",
    "    ToolMessage,\n",
    ")\n",
    "from langchain_core.prompts import ChatPromptTemplate, MessagesPlaceholder\n",
    "\n",
    "from langgraph.graph import END, StateGraph, START\n",
    "\n",
    "\n",
    "def create_agent(llm, tools, system_message: str):\n",
    "    \"\"\"Create an agent.\"\"\"\n",
    "    prompt = ChatPromptTemplate.from_messages(\n",
    "        [\n",
    "            (\n",
    "                \"system\",\n",
    "                \"You are a helpful AI assistant, collaborating with other assistants.\"\n",
    "                \" Use the provided tools to progress towards answering the question.\"\n",
    "                \" If you are unable to fully answer, that's OK, another assistant with different tools \"\n",
    "                \" will help where you left off. Execute what you can to make progress.\"\n",
    "                \" If you or any of the other assistants have the final answer or deliverable,\"\n",
    "                \" prefix your response with FINAL ANSWER so the team knows to stop.\"\n",
    "                \" You have access to the following tools: {tool_names}.\\n{system_message}\",\n",
    "            ),\n",
    "            MessagesPlaceholder(variable_name=\"messages\"),\n",
    "        ]\n",
    "    )\n",
    "    prompt = prompt.partial(system_message=system_message)\n",
    "    prompt = prompt.partial(tool_names=\", \".join([tool.name for tool in tools]))\n",
    "    return prompt | llm.bind_tools(tools)"
   ]
  },
  {
   "cell_type": "markdown",
   "id": "70132439-184c-46bc-b3aa-098bd5310c1e",
   "metadata": {
    "tags": []
   },
   "source": [
    "### 4. Define tools"
   ]
  },
  {
   "cell_type": "markdown",
   "id": "6ffca944-5ef0-430a-9abf-6fe93007e091",
   "metadata": {},
   "source": [
    "Sometimes, for complex calculations, rather than have an LLM generate the answer directly, it can be better to have the LLM generate code to calculate the answer, and then run that code to get the answer. In order to easily do that, we provide a simple Python REPL to execute commands in."
   ]
  },
  {
   "cell_type": "code",
   "execution_count": 7,
   "id": "192a9964-44cb-4095-8c4b-bb7e36753b07",
   "metadata": {
    "tags": []
   },
   "outputs": [],
   "source": [
    "repl = PythonREPL()\n",
    "\n",
    "\n",
    "@tool\n",
    "def python_repl(\n",
    "    code: Annotated[str, \"The python code to execute to generate your calculations.\"],\n",
    "):\n",
    "    \"\"\"Use this to execute python code. If you want to see the output of a value,\n",
    "    you should print it out with `print(...)`. This is visible to the user.\"\"\"\n",
    "    try:\n",
    "        result = repl.run(code)\n",
    "    except BaseException as e:\n",
    "        return f\"Failed to execute. Error: {repr(e)}\"\n",
    "    result_str = f\"Successfully executed:\\n\\`\\`\\`python\\n{code}\\n\\`\\`\\`\\nStdout: {result}\"\n",
    "    return (\n",
    "        result_str + \"\\n\\nIf you have completed all tasks, respond with FINAL ANSWER.\"\n",
    "    )\n",
    "\n",
    "from langchain_community.tools import DuckDuckGoSearchRun\n",
    "\n",
    "# Initialize DuckDuckGo Search Tool\n",
    "duckduckgo_search = DuckDuckGoSearchRun()"
   ]
  },
  {
   "cell_type": "markdown",
   "id": "e45b4553-ec99-4e9b-ab49-0836bc7b186a",
   "metadata": {
    "tags": []
   },
   "source": [
    "### 5. Create graph"
   ]
  },
  {
   "cell_type": "markdown",
   "id": "dd3cab41-1de6-4446-893c-2a4c80c2b6e9",
   "metadata": {},
   "source": [
    "#### 5.1 Define State"
   ]
  },
  {
   "cell_type": "code",
   "execution_count": 8,
   "id": "19f30dac-6b3f-4731-8640-47dca14aeb11",
   "metadata": {
    "tags": []
   },
   "outputs": [],
   "source": [
    "import operator\n",
    "from typing import Annotated, Sequence\n",
    "from typing_extensions import TypedDict\n",
    "\n",
    "from langchain_openai import ChatOpenAI\n",
    "\n",
    "\n",
    "# This defines the object that is passed between each node\n",
    "# in the graph. We will create different nodes for each agent and tool\n",
    "class AgentState(TypedDict):\n",
    "    messages: Annotated[Sequence[BaseMessage], operator.add]\n",
    "    sender: str"
   ]
  },
  {
   "cell_type": "markdown",
   "id": "bd442ef5-3b43-4086-a929-22da477f8b53",
   "metadata": {},
   "source": [
    "#### 5.2 Define Agent Nodes"
   ]
  },
  {
   "cell_type": "markdown",
   "id": "9c0939f8-7149-492b-8a36-fc09b838c54a",
   "metadata": {
    "tags": []
   },
   "source": [
    "##### 5.2.1 Define Edge Logic"
   ]
  },
  {
   "cell_type": "code",
   "execution_count": 9,
   "id": "e08b4c68-11b2-4407-8732-3093fbe4cf32",
   "metadata": {
    "tags": []
   },
   "outputs": [],
   "source": [
    "import functools\n",
    "from langchain_core.messages import AIMessage\n",
    "\n",
    "# Helper function to create a node for a given agent\n",
    "def agent_node(state, agent, name):\n",
    "    # Pass only the messages to the agent\n",
    "    messages = state[\"messages\"]\n",
    "    # Ensure correct message structure by adding the correct role\n",
    "    human_message = {\"role\": \"user\", \"content\": messages[-1].content} if isinstance(messages[-1], HumanMessage) else messages[-1]\n",
    "    \n",
    "    # Invoke agent with correctly formatted messages\n",
    "    result = agent.invoke([human_message])\n",
    "    \n",
    "    if isinstance(result, ToolMessage):\n",
    "        messages.append({\"role\": \"assistant\", \"content\": result.content})\n",
    "    else:\n",
    "        result = AIMessage(**result.dict(exclude={\"type\", \"name\"}), name=name)\n",
    "        messages.append({\"role\": \"assistant\", \"content\": result.content})\n",
    "        \n",
    "    return {\n",
    "        \"messages\": messages,\n",
    "        \"sender\": name,\n",
    "    }\n"
   ]
  },
  {
   "cell_type": "code",
   "execution_count": null,
   "id": "1128d826-bb1c-474c-b803-4f8ee93bf5ea",
   "metadata": {
    "tags": []
   },
   "outputs": [],
   "source": [
    "import functools\n",
    "from langchain_core.messages import AIMessage\n",
    "\n",
    "\n",
    "# search agent and node\n",
    "search_agent = create_agent(\n",
    "    llm,\n",
    "    [duckduckgo_search],\n",
    "    system_message=\"You should provide accurate search.\",\n",
    ")\n",
    "search_node = functools.partial(agent_node,\n",
    "                                agent=search_agent,\n",
    "                                name=\"Researcher\")\n",
    "\n",
    "# chart_generator\n",
    "chart_agent = create_agent(\n",
    "    llm,\n",
    "    [python_repl],\n",
    "    system_message=\"A Python shell. Use this to execute python commands. Input should be a valid python command. If you want to see the output of a value, you should print it out with `print(...)`.\",\n",
    ")\n",
    "chart_node = functools.partial(agent_node,\n",
    "                               agent=chart_agent,\n",
    "                               name=\"chart_generator\")"
   ]
  },
  {
   "cell_type": "markdown",
   "id": "d65cc159-a794-4304-922d-b46ac393266d",
   "metadata": {},
   "source": [
    "#### 5.3 Define Tool Node"
   ]
  },
  {
   "cell_type": "code",
   "execution_count": 11,
   "id": "6d8d03d3-cbe3-42ac-8a90-3ef612d57c41",
   "metadata": {
    "tags": []
   },
   "outputs": [
    {
     "data": {
      "text/plain": [
       "tools(tags=None, recurse=True, explode_args=False, func_accepts_config=True, func_accepts={'writer': False, 'store': True, 'previous': False}, tools_by_name={'duckduckgo_search': DuckDuckGoSearchRun(api_wrapper=DuckDuckGoSearchAPIWrapper(region='wt-wt', safesearch='moderate', time='y', max_results=5, backend='auto', source='text')), 'python_repl': StructuredTool(name='python_repl', description='Use this to execute python code. If you want to see the output of a value,\\n    you should print it out with `print(...)`. This is visible to the user.', args_schema=<class 'langchain_core.utils.pydantic.python_repl'>, func=<function python_repl at 0x7fa1728dbba0>)}, tool_to_state_args={'duckduckgo_search': {}, 'python_repl': {}}, tool_to_store_arg={'duckduckgo_search': None, 'python_repl': None}, handle_tool_errors=True, messages_key='messages')"
      ]
     },
     "execution_count": 11,
     "metadata": {},
     "output_type": "execute_result"
    }
   ],
   "source": [
    "from langgraph.prebuilt import ToolNode\n",
    "\n",
    "tools = [duckduckgo_search, \n",
    "         python_repl]\n",
    "tool_node = ToolNode(tools)\n",
    "tool_node"
   ]
  },
  {
   "cell_type": "code",
   "execution_count": 12,
   "id": "3d4f4155-3efb-45e7-9bdc-9adfb7726ac5",
   "metadata": {
    "tags": []
   },
   "outputs": [],
   "source": [
    "def initial_router(state):\n",
    "    # Access the first message to determine routing\n",
    "    messages = state[\"messages\"]\n",
    "    first_message = messages[0]\n",
    "    content = first_message.content.lower()\n",
    "\n",
    "    # Determine if the task is chart-related or search-related\n",
    "    if \"calculate\" in content or \"print(\" in content or \"code\" in content:\n",
    "        state[\"sender\"] = \"python_calculator\"\n",
    "    else:\n",
    "        state[\"sender\"] = \"searcher\"\n",
    "\n",
    "    return state  # Return the state with updated 'sender'\n"
   ]
  },
  {
   "cell_type": "code",
   "execution_count": 13,
   "id": "14eae617-5f4b-422c-aa9d-bf1f0dc0e009",
   "metadata": {
    "tags": []
   },
   "outputs": [],
   "source": [
    "from langgraph.graph import StateGraph, START\n",
    "\n",
    "# Define the workflow\n",
    "workflow = StateGraph(AgentState)\n",
    "\n",
    "# Add nodes\n",
    "workflow.add_node(\"initial_router\", initial_router)\n",
    "workflow.add_node(\"searcher\", search_node)\n",
    "workflow.add_node(\"python_calculator\", chart_node)\n",
    "\n",
    "# Define the routing based on `initial_router`\n",
    "workflow.add_conditional_edges(\n",
    "    \"initial_router\",\n",
    "    lambda state: state[\"sender\"],\n",
    "    {\"searcher\": \"searcher\", \"python_calculator\": \"python_calculator\"},\n",
    ")\n",
    "\n",
    "# Initial edge to start the workflow\n",
    "workflow.add_edge(START, \"initial_router\")\n",
    "\n",
    "# Compile the workflow graph\n",
    "graph = workflow.compile()"
   ]
  },
  {
   "cell_type": "code",
   "execution_count": 14,
   "id": "972ff209-c6a0-423e-bf37-7b6efde9c11e",
   "metadata": {
    "tags": []
   },
   "outputs": [
    {
     "data": {
      "image/png": "[encoded data removed]",
      "text/plain": [
       "<IPython.core.display.Image object>"
      ]
     },
     "metadata": {},
     "output_type": "display_data"
    }
   ],
   "source": [
    "from IPython.display import Image, display\n",
    "\n",
    "try:\n",
    "    display(Image(graph.get_graph(xray=True).draw_mermaid_png()))\n",
    "except Exception:\n",
    "    # This requires some extra dependencies and is optional\n",
    "    pass"
   ]
  },
  {
   "cell_type": "code",
   "execution_count": 15,
   "id": "37f5c0dd-b405-4ca7-8a45-c4a4589ce6da",
   "metadata": {},
   "outputs": [
    {
     "name": "stdout",
     "output_type": "stream",
     "text": [
      "{'initial_router': {'messages': [HumanMessage(content='Can you give me the last Tesla stock?', additional_kwargs={}, response_metadata={})], 'sender': 'searcher'}}\n",
      "----\n",
      "I'm sorry for the confusion, but I don't have real-time data or the ability to access live stock market information. However, I can help you find the latest news or updates about Tesla's stock by using the DuckDuckGo search tool.\n",
      "\n",
      "Let me perform a search for you.\n",
      "\n",
      "[duckduckgo_search]({\n",
      "  \"query\": \"Tesla stock price\"\n",
      "})"
     ]
    },
    {
     "name": "stderr",
     "output_type": "stream",
     "text": [
      "/tmp/ipykernel_2496/1524890136.py:17: PydanticDeprecatedSince20: The `dict` method is deprecated; use `model_dump` instead. Deprecated in Pydantic V2.0 to be removed in V3.0. See Pydantic V2 Migration Guide at https://errors.pydantic.dev/2.10/migration/\n",
      "  result = AIMessage(**result.dict(exclude={\"type\", \"name\"}), name=name)\n"
     ]
    },
    {
     "name": "stdout",
     "output_type": "stream",
     "text": [
      "{'searcher': {'messages': [HumanMessage(content='Can you give me the last Tesla stock?', additional_kwargs={}, response_metadata={}), HumanMessage(content='Can you give me the last Tesla stock?', additional_kwargs={}, response_metadata={}), {'role': 'assistant', 'content': 'I\\'m sorry for the confusion, but I don\\'t have real-time data or the ability to access live stock market information. However, I can help you find the latest news or updates about Tesla\\'s stock by using the DuckDuckGo search tool.\\n\\nLet me perform a search for you.\\n\\n[duckduckgo_search]({\\n  \"query\": \"Tesla stock price\"\\n})'}], 'sender': 'Researcher'}}\n",
      "----\n"
     ]
    }
   ],
   "source": [
    "# Run a test to see if the workflow correctly alternates roles\n",
    "config = {\"configurable\": {\"thread_id\": \"1\"}}\n",
    "\n",
    "test_input = \"Can you give me the last Tesla stock?\"\n",
    "\n",
    "events = graph.stream(\n",
    "    {\n",
    "        \"messages\": [\n",
    "            HumanMessage(content=test_input)\n",
    "        ],\n",
    "    },\n",
    "    {\"recursion_limit\": 150},\n",
    ")\n",
    "\n",
    "# Display each step in the event stream to confirm proper role alternation\n",
    "for s in events:\n",
    "    print(s)\n",
    "    print(\"----\")\n"
   ]
  },
  {
   "cell_type": "code",
   "execution_count": 16,
   "id": "b38b8267-5916-4725-b5f5-08621d419d8a",
   "metadata": {
    "tags": []
   },
   "outputs": [
    {
     "name": "stdout",
     "output_type": "stream",
     "text": [
      "{'initial_router': {'messages': [HumanMessage(content='print(5^50/2^17)', additional_kwargs={}, response_metadata={})], 'sender': 'python_calculator'}}\n",
      "----\n",
      "5^50/2^17 is a very large number. To get an idea of its magnitude, we can use the python_repl tool to calculate it.\n",
      "\n",
      "Here's the code:\n",
      "\n",
      "```python\n",
      "print(5**50 / 2**17)\n",
      "```\n",
      "\n",
      "Let's execute this code using the python_repl tool.\n",
      "```python\n",
      "print(5**50 / 2**17)\n",
      "```"
     ]
    },
    {
     "name": "stderr",
     "output_type": "stream",
     "text": [
      "/tmp/ipykernel_2496/1524890136.py:17: PydanticDeprecatedSince20: The `dict` method is deprecated; use `model_dump` instead. Deprecated in Pydantic V2.0 to be removed in V3.0. See Pydantic V2 Migration Guide at https://errors.pydantic.dev/2.10/migration/\n",
      "  result = AIMessage(**result.dict(exclude={\"type\", \"name\"}), name=name)\n"
     ]
    },
    {
     "name": "stdout",
     "output_type": "stream",
     "text": [
      "{'python_calculator': {'messages': [HumanMessage(content='print(5^50/2^17)', additional_kwargs={}, response_metadata={}), HumanMessage(content='print(5^50/2^17)', additional_kwargs={}, response_metadata={}), {'role': 'assistant', 'content': \"5^50/2^17 is a very large number. To get an idea of its magnitude, we can use the python_repl tool to calculate it.\\n\\nHere's the code:\\n\\n```python\\nprint(5**50 / 2**17)\\n```\\n\\nLet's execute this code using the python_repl tool.\\n```python\\nprint(5**50 / 2**17)\\n```\"}], 'sender': 'chart_generator'}}\n",
      "----\n"
     ]
    }
   ],
   "source": [
    "events = graph.stream(\n",
    "    {\n",
    "        \"messages\": [\n",
    "            HumanMessage(\n",
    "                content=\"print(5^50/2^17)\"\n",
    "            )\n",
    "        ],\n",
    "    },\n",
    "    # Maximum number of steps to take in the graph\n",
    "    {\"recursion_limit\": 150},\n",
    ")\n",
    "for s in events:\n",
    "    print(s)\n",
    "    print(\"----\")"
   ]
  }
 ],
 "metadata": {
  "kernelspec": {
   "display_name": "Python 3.11",
   "language": "python",
   "name": "python3"
  },
  "language_info": {
   "codemirror_mode": {
    "name": "ipython",
    "version": 3
   },
   "file_extension": ".py",
   "mimetype": "text/x-python",
   "name": "python",
   "nbconvert_exporter": "python",
   "pygments_lexer": "ipython3",
   "version": "3.11.7"
  }
 },
 "nbformat": 4,
 "nbformat_minor": 5
}
